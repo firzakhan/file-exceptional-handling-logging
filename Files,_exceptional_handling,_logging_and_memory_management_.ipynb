{
  "nbformat": 4,
  "nbformat_minor": 0,
  "metadata": {
    "colab": {
      "provenance": []
    },
    "kernelspec": {
      "name": "python3",
      "display_name": "Python 3"
    },
    "language_info": {
      "name": "python"
    }
  },
  "cells": [
    {
      "cell_type": "markdown",
      "source": [
        "#Q1. What is the difference between interpreted and compiled languages?\n"
      ],
      "metadata": {
        "id": "9WWPm9aKDNPb"
      }
    },
    {
      "cell_type": "markdown",
      "source": [
        "Ans. Interpreted vs. Compiled Languages\n",
        "The key difference between interpreted and compiled languages lies in how their source code is processed and executed.\n",
        "\n",
        "Interpreted languages\n",
        "Execution: An interpreter reads and executes the code line by line, translating it into machine instructions at runtime.\n",
        "\n",
        "Compilation Step: No prior compilation step is required; the code runs immediately after being written.\n",
        "\n",
        "Performance: Generally slower due to the real-time parsing and execution process.\n",
        "\n",
        "Portability: More portable, as the same code can run on different platforms as long as the appropriate interpreter is available.\n",
        "\n",
        "Debugging: Errors are detected and reported as the code executes, making debugging potentially easier.\n",
        "\n",
        "Development Speed: Faster development cycles because changes can be tested immediately without recompilation.\n",
        "\n",
        "Examples: Python, JavaScript, Ruby, Perl, PHP.\n",
        "\n",
        "Compiled languages\n",
        "\n",
        "Execution: The entire source code is translated into machine code by a compiler before execution.\n",
        "\n",
        "Compilation Step: Requires a separate compilation step to create an executable file (or object code) before the program can be run.\n",
        "\n",
        "Performance: Generally faster because the code is optimized and directly executable by the CPU after compilation.\n",
        "\n",
        "Portability: Typically platform-dependent; the compiled executable is specific to the hardware and operating system it was compiled for, according to The Server Side.\n",
        "\n",
        "Debugging: Errors are detected during the compilation phase, and the program will not run until all compilation errors are fixed. Debugging can be more complex since errors are caught before runtime.\n",
        "\n",
        "Development Speed: Longer development cycles due to the compilation step involved with every code change.\n",
        "\n",
        "Examples: C, C++, C#, Go, Rust, Java (Java utilizes a hybrid approach, compiling to bytecode first and then interpreting it via a Java Virtual Machine)."
      ],
      "metadata": {
        "id": "W0GJ9bB6DV09"
      }
    },
    {
      "cell_type": "markdown",
      "source": [
        "#Q2. What is exception handling in Python?\n",
        "\n",
        "\n"
      ],
      "metadata": {
        "id": "-uHp30kxD3IV"
      }
    },
    {
      "cell_type": "markdown",
      "source": [
        "Ans. Exception handling in Python\n",
        "\n",
        "In Python, exception handling is a crucial mechanism for dealing with runtime errors or unexpected events that might disrupt the normal flow of your program. Instead of allowing the program to crash, exception handling provides a way to gracefully manage these errors, allowing your code to recover or respond in a controlled manner.\n",
        "\n",
        "Core concepts\n",
        "\n",
        "Python exception handling primarily revolves around four keywords:\n",
        "try: The code that might potentially raise an exception is enclosed within the try block.\n",
        "\n",
        "except: If an exception occurs within the try block, the program's control jumps to the except block, which contains the code to handle that specific exception. You can specify the type of exception you want to catch after the except keyword. For example, except ZeroDivisionError:. You can also handle multiple exceptions in a single except block by providing them as a tuple, like except (ValueError, TypeError) as e:.\n",
        "\n",
        "else: (Optional) The else block executes only if no exceptions are raised in the try block. It's often used for code that should only run when the try block succeeds.\n",
        "\n",
        "finally: (Optional) The finally block is always executed, regardless of whether an exception occurred in the try block or was handled by an except block. It's commonly used for cleanup operations like closing files, releasing resources, or ensuring a final action takes place.\n",
        "How it works\n",
        "\n",
        "When Python encounters an error during the execution of the code within a try block, it raises an exception. This exception is an object that contains information about the error. Python then searches for a matching except block to handle that specific type of exception.\n",
        "\n",
        "If a matching except block is found, the code within that block is executed.\n",
        "If no matching except block is found, the exception propagates upwards through the call stack. If the exception remains unhandled, the program will terminate with a traceback message.\n",
        "\n"
      ],
      "metadata": {
        "id": "HLylRTnDEXqo"
      }
    },
    {
      "cell_type": "markdown",
      "source": [
        "#Q3. What is the purpose of the finally block in exception handling?\n"
      ],
      "metadata": {
        "id": "LlSx5RR2E7vO"
      }
    },
    {
      "cell_type": "markdown",
      "source": [
        "Ans. In Python's exception handling, the finally block serves a crucial purpose: it ensures that a specific piece of code is executed regardless of whether an exception occurred in the try block or was caught by an except block.\n",
        "\n",
        "Think of it as a guaranteed cleanup crew that comes in after the main event, no matter how that event played out.\n",
        "\n",
        "Key reasons for using a finally block\n",
        "\n",
        "Resource Management (Guaranteed Cleanup): This is the most common and important use case. When working with external resources like files, database connections, or network sockets, you need to ensure they are closed or released properly to prevent resource leaks and maintain system stability. The finally block guarantees that these cleanup actions will always be performed, whether the code in the try block succeeds, raises an exception that is handled, or raises an exception that is not handled.\n",
        "\n",
        "Example: Closing a file, disconnecting from a database, releasing a lock.\n",
        "python\n",
        "try:\n",
        "    file = open(\"my_data.txt\", \"r\")\n",
        "    content = file.read()\n",
        "    # Process content\n",
        "except FileNotFoundError:\n",
        "    print(\"Error: The file was not found.\")\n",
        "finally:\n",
        "    if 'file' in locals() and not file.closed:  # Check if file was opened and not already closed\n",
        "        file.close()\n",
        "        print(\"File closed.\")\n",
        "Use code with caution.\n",
        "\n",
        "In this example, the finally block ensures that file.close() is called, even if FileNotFoundError occurs.\n",
        "Ensuring Final Actions: Sometimes, there are actions that absolutely need to be performed at the end of a block of code, regardless of success or failure. The finally block is the ideal place for such \"finalization\" tasks.\n",
        "Example: Logging the completion of a process, printing a final message to the user, resetting a program state.\n",
        "python\n",
        "try:\n",
        "    # Complex calculation\n",
        "    result = 10 / num\n",
        "    print(f\"Result: {result}\")\n",
        "except ZeroDivisionError:\n",
        "    print(\"Cannot divide by zero.\")\n",
        "finally:\n",
        "    print(\"Program execution completed.\")"
      ],
      "metadata": {
        "id": "3_SgEgM7FBk9"
      }
    },
    {
      "cell_type": "markdown",
      "source": [
        "#Q4. What is logging in Python?\n"
      ],
      "metadata": {
        "id": "lyQxkDp3FYFA"
      }
    },
    {
      "cell_type": "markdown",
      "source": [
        "Ans. Logging in Python is a fundamental practice for tracking events that occur while your program is running. It's essentially a way to record information about the execution of your code, which can be invaluable for debugging, troubleshooting, monitoring, and understanding how your application behaves in different scenarios. Python's standard library includes the powerful logging module, which provides a flexible framework for generating and managing log messages.\n",
        "\n",
        "Why is logging essential?\n",
        "\n",
        "Debugging: When errors or unexpected behavior occur, logs provide a historical record of events that can help you pinpoint the root cause of the problem. Think of them as breadcrumbs left behind by your code.\n",
        "Troubleshooting: After deploying your application, logs are crucial for diagnosing and resolving issues in a production environment.\n",
        "Monitoring: Logs can offer insights into the health and performance of your application, allowing you to detect anomalies, identify bottlenecks, and ensure everything is running smoothly.\n",
        "\n",
        "Auditing: For security or compliance purposes, logs can record important actions and events, providing a trail of who did what and when.\n",
        "\n",
        "Understanding Application Flow: Logs can reveal the sequence of operations within your program, helping you better understand its logic and how different parts interact.\n",
        "\n",
        "Key components of the logging module\n",
        "\n",
        "The logging module uses several components to manage the logging process:\n",
        "Loggers: These are the main interface for applications. You create named loggers to categorize messages, and each logger has a level to filter which messages are processed.\n",
        "\n",
        "Handlers: Handlers send log records to different destinations. Common handlers include StreamHandler (console output), FileHandler (writing to a file), RotatingFileHandler and TimedRotatingFileHandler (managing file size and rotation). Other handlers can send logs to emails or networks.\n",
        "\n",
        "Formatters: Formatters control the appearance and content of log messages, including elements like timestamps and log levels.\n",
        "\n",
        "Levels: Logging levels indicate the severity of a message. The five standard levels, from least to most severe, are DEBUG, INFO, WARNING, ERROR, and CRITICAL. Setting a logger's level filters out messages below that severity."
      ],
      "metadata": {
        "id": "VALql8bWFhyo"
      }
    },
    {
      "cell_type": "markdown",
      "source": [
        "#Q5. What is the significance of the __del__ method in Python?\n"
      ],
      "metadata": {
        "id": "TCyW4p-oF4lV"
      }
    },
    {
      "cell_type": "markdown",
      "source": [
        "Ans. The __del__ method in Python is a special method, often referred to as a destructor or finalizer. It is automatically called by the Python garbage collector just before an object is destroyed and its memory is reclaimed.\n",
        "\n",
        "The primary significance of the __del__ method is to provide a way to define cleanup actions that need to be performed when an object is no longer needed.\n",
        "Key uses and advantages\n",
        "\n",
        "Resource Management: It's primarily used for releasing external resources that the object might be holding onto, such as:\n",
        "\n",
        "File handles\n",
        "Network connections\n",
        "Database connections\n",
        "Other system resources (e.g., locks, temporary files)\n",
        "Automatic Cleanup: The __del__ method is called automatically by Python when the garbage collector determines that an object is no longer referenced, according to HeyCoach. This helps prevent resource leaks by ensuring resources are released even if the programmer forgets to do so explicitly.\n",
        "Simplified Code: By encapsulating cleanup logic within the __del__ method, you can potentially simplify your code, making it more readable and maintainable.\n",
        "Debugging and Tracking: It can be used for debugging purposes to track the lifecycle of objects, such as when they are destroyed.\n",
        "\n",
        "Important considerations and limitations\n",
        "\n",
        "While __del__ can be useful, it's crucial to understand its limitations and potential issues, which is why it's generally recommended to use alternatives like context managers (with statements) for resource management.\n",
        "Not Guaranteed Execution: The __del__ method is not guaranteed to be called in all circumstances, especially when the program terminates or in the presence of circular references.\n",
        "\n",
        "Timing is Unpredictable: You cannot precisely control when Python's garbage collector will decide to destroy an object and call __del__.\n",
        "\n",
        "Exceptions are Ignored: If an exception is raised within the __del__ method, it is suppressed and not propagated, which can lead to silent failures and make debugging difficult.\n",
        "\n",
        "Avoid Complex Operations: It's best to keep the __del__ method simple and avoid performing complex or potentially risky operations within it.\n",
        "\n",
        "In essence, __del__ is a \"last resort\" for cleanup in Python. For most resource management tasks, context managers (with statements) offer a more robust and predictable approach."
      ],
      "metadata": {
        "id": "IN7DZWPAF_KA"
      }
    },
    {
      "cell_type": "markdown",
      "source": [
        "#Q6. What is the difference between import and from ... import in Python?\n"
      ],
      "metadata": {
        "id": "rks3NA0rGQbK"
      }
    },
    {
      "cell_type": "markdown",
      "source": [
        "Ans. Here's a breakdown of the differences between the two Python import statements:\n",
        "\n",
        "1. import module_name\n",
        "\n",
        "Behavior: This statement imports the entire module into your current script. To access functions, classes, or variables defined within the module, you need to use the module name as a prefix, followed by a dot (.), e.g., math.sqrt().\n",
        "\n",
        "\n"
      ],
      "metadata": {
        "id": "3hENJ6dKGXpz"
      }
    },
    {
      "cell_type": "code",
      "source": [
        "import math\n",
        "print(math.pi) # Output: 3.141592653589793\n",
        "print(math.sqrt(25)) # Output: 5.0\n"
      ],
      "metadata": {
        "colab": {
          "base_uri": "https://localhost:8080/"
        },
        "id": "tbvgDLTGGkxx",
        "outputId": "a7f886e3-e39f-446c-a0cf-3701f805587f"
      },
      "execution_count": null,
      "outputs": [
        {
          "output_type": "stream",
          "name": "stdout",
          "text": [
            "3.141592653589793\n",
            "5.0\n"
          ]
        }
      ]
    },
    {
      "cell_type": "markdown",
      "source": [
        "Advantages:\n",
        "\n",
        "Clarity: It's explicit about the origin of each function or variable, making the code easier to read and understand.\n",
        "Namespace Isolation: The module's contents are kept within its own namespace, preventing naming conflicts with elements defined in your script or other modules.\n",
        "\n",
        "Disadvantages:\n",
        "\n",
        "Potentially longer lines of code if you frequently use items from the module\n",
        "\n",
        "from module_name import specific_item\n",
        "\n",
        "Behavior: This statement imports only the specified functions, classes, or variables from a module directly into your script's namespace. You can then use them without the module name prefix.\n",
        "\n",
        "\n",
        "from math import sqrt, pi\n",
        "print(pi) # Output: 3.141592653589793\n",
        "print(sqrt(25)) # Output: 5.0\n",
        "\n",
        "Advantages:\n",
        "\n",
        "Conciseness: Makes the code shorter, especially when using a function frequently.\n",
        "\n",
        "Disadvantages:\n",
        "\n",
        "Reduced Readability: It might be less clear where a function originates if many names are imported from various modules.\n",
        "Name Clashes: Increases the risk of naming collisions if your script or other modules define functions or variables with the same names."
      ],
      "metadata": {
        "id": "I5EAs3UPGmqA"
      }
    },
    {
      "cell_type": "markdown",
      "source": [
        "#Q7. How can you handle multiple exceptions in Python?\n",
        "\n"
      ],
      "metadata": {
        "id": "IkCJ775qJlUR"
      }
    },
    {
      "cell_type": "markdown",
      "source": [
        "Ans. Handling multiple exceptions in Python\n",
        "\n",
        "Python provides several ways to handle multiple exceptions that might arise in your code within a try...except block.\n",
        "\n",
        "Here's how you can approach it:\n",
        "\n",
        "1. Using a single except block with a tuple of exceptions\n",
        "This is the most common and recommended way to handle multiple exceptions that require the same error-handling logic.\n",
        "\n",
        "You provide a tuple of exception types to the except statement.\n",
        "If any of the specified exceptions occur, the code within this except block will execute."
      ],
      "metadata": {
        "id": "IDnpGKAgJvcm"
      }
    },
    {
      "cell_type": "code",
      "source": [
        "try:\n",
        "    user_input = int(input(\"Enter a number: \"))\n",
        "    result = 10 / user_input\n",
        "except (ValueError, ZeroDivisionError):\n",
        "    print(\"Invalid input or division by zero occurred. Please enter a non-zero integer.\")\n"
      ],
      "metadata": {
        "colab": {
          "base_uri": "https://localhost:8080/"
        },
        "id": "VikYFHMvKIKA",
        "outputId": "61f0502f-9874-4124-fe70-7bdc367890e2"
      },
      "execution_count": null,
      "outputs": [
        {
          "name": "stdout",
          "output_type": "stream",
          "text": [
            "Enter a number: 50\n"
          ]
        }
      ]
    },
    {
      "cell_type": "markdown",
      "source": [
        "In this example:\n",
        "\n",
        "If the user enters a non-integer value, a ValueError will be raised, and the except block will be executed.\n",
        "If the user enters 0, a ZeroDivisionError will be raised, and the except block will be executed.\n",
        "\n",
        "2. Using multiple except blocks\n",
        "\n",
        "If you need to handle different exception types with different code blocks, you can use multiple except clauses in a chained manner.\n",
        "Each except block will specify a particular exception type.\n",
        "Python will execute the first except block whose exception type matches the exception that occurred."
      ],
      "metadata": {
        "id": "KFkWhSmVKLL4"
      }
    },
    {
      "cell_type": "code",
      "source": [
        "try:\n",
        "    file = open(\"my_file.txt\", \"r\")  # Attempt to open a file\n",
        "    # Perform some operations on the file\n",
        "    file.close()\n",
        "except FileNotFoundError:\n",
        "    print(\"The specified file does not exist.\")\n",
        "except PermissionError:\n",
        "    print(\"You don't have permission to access this file.\")\n",
        "except OSError:\n",
        "    print(\"An operating system error occurred while interacting with the file.\")\n",
        "\n"
      ],
      "metadata": {
        "id": "S7bPDY6wKXci"
      },
      "execution_count": null,
      "outputs": []
    },
    {
      "cell_type": "markdown",
      "source": [
        "In this example:\n",
        "\n",
        "If my_file.txt doesn't exist, a FileNotFoundError is raised, and the first except block executes.\n",
        "\n",
        "If you lack permissions to access the file, a PermissionError is raised, and the second except block executes.\n",
        "\n",
        "Any other OSError (which is a base class for FileNotFoundError and PermissionError) will be caught by the last except block if the specific ones are not matched first."
      ],
      "metadata": {
        "id": "aoCx61ICKa5G"
      }
    },
    {
      "cell_type": "markdown",
      "source": [
        "#Q8. What is the purpose of the with statement when handling files in Python?\n",
        "\n",
        "\n"
      ],
      "metadata": {
        "id": "rvctHtz4KiCT"
      }
    },
    {
      "cell_type": "markdown",
      "source": [
        "Ans. The purpose of the with statement in Python file handling\n",
        "When handling files in Python, the with statement is the recommended and safest way to open and close files automatically. Its primary purpose is to simplify resource management and ensure files are properly closed, even if errors occur.\n",
        "\n",
        "Key benefits\n",
        "\n",
        "Automatic File Closure: The with statement automatically handles closing the file once the block of code is exited, whether it exits normally or due to an exception. This eliminates the need for explicitly calling file.close(), which is a common source of bugs if forgotten.\n",
        "\n",
        "Resource Leak Prevention: Forgetting to close files can lead to resource leaks, where system resources remain allocated to the file even after the program has finished with it. The with statement prevents this by guaranteeing that the file is closed, freeing up those resources.\n",
        "\n",
        "Improved Code Readability: The with statement simplifies code by abstracting the complexity of using try...finally blocks for resource management. This makes the code cleaner, more concise, and easier to understand.\n",
        "\n",
        "Exception Safety: Even if an error or exception occurs within the with block while working with the file, the with statement ensures the file is closed properly before the exception is propagated. This helps prevent data corruption and resource issues that might arise from leaving files open in an inconsistent state.\n",
        "\n",
        "How it works\n",
        "\n",
        "The with statement utilizes a concept called context managers. When you use with open(...), the open() function returns a file object that acts as a context manager. This context manager defines two special methods:\n",
        "\n",
        "__enter__(): This method is called when the with block is entered. It acquires the resource (in this case, it opens the file) and returns the file object to be used within the block.\n",
        "\n",
        "__exit__(): This method is called when the with block is exited (either normally or due to an exception). It is responsible for releasing the resource, ensuring that the file is properly closed."
      ],
      "metadata": {
        "id": "5CgRoFxHKrfp"
      }
    },
    {
      "cell_type": "markdown",
      "source": [
        "Example"
      ],
      "metadata": {
        "id": "O_TwtY-EK_iP"
      }
    },
    {
      "cell_type": "code",
      "source": [
        "with open(\"my_file.txt\", \"w\") as file:  # Opens the file in write mode\n",
        "    file.write(\"Hello from the with statement!\") # Writes to the file\n",
        "\n",
        "# At this point, the file is automatically closed, even if an error occurred in the 'with' block.\n"
      ],
      "metadata": {
        "id": "L49qTQrwKK5O"
      },
      "execution_count": null,
      "outputs": []
    },
    {
      "cell_type": "markdown",
      "source": [
        "#Q9. What is the difference between multithreading and multiprocessing?\n"
      ],
      "metadata": {
        "id": "H6lwpzpfLG8z"
      }
    },
    {
      "cell_type": "markdown",
      "source": [
        "Ans. Multithreading vs. multiprocessing: a breakdown Both multithreading and multiprocessing are techniques for achieving concurrent execution within a computing system, but they differ fundamentally in how they achieve this goal and in their applicability to different types of tasks.\n",
        "\n",
        "1. Processes and threads: the building blocks\n",
        "Process: An independent program in execution, with its own dedicated memory space, resources, and often, a dedicated CPU core.\n",
        "Thread: A lightweight unit of execution within a process that shares the parent process's memory space and other resources.  \n",
        "\n",
        "2. Key differences\n",
        "\n",
        "2.1. Resource utilization\n",
        "Multiprocessing: Achieves parallelism by utilizing multiple CPU cores, with each process running on a separate core and having its own dedicated memory space.\n",
        "Multithreading: Can utilize a single core by dividing tasks among threads, efficiently managing execution flow within a single process.\n",
        "2.2. Memory and resource sharing\n",
        "Multiprocessing: Processes have separate memory spaces, ensuring isolation but requiring explicit mechanisms for inter-process communication.\n",
        "Multithreading: Threads share the same memory space and resources, simplifying communication but potentially leading to data conflicts if not managed carefully.\n",
        "2.3. Scalability\n",
        "Multiprocessing: Offers scalability, especially on systems with multiple CPU cores, allowing tasks to be distributed across cores for increased computational speed.\n",
        "Multithreading: Suited for scenarios where tasks can be executed concurrently within a single-core environment, improving responsiveness and efficient resource utilization within the process itself.\n",
        "2.4. Python's global interpreter lock (GIL)\n",
        "In Python's CPython interpreter, the GIL ensures that only one thread can execute Python bytecode at a time, even in multithreaded applications running on multicore CPUs.\n",
        "This means that multithreading in CPython is primarily suited for I/O-bound tasks, where threads spend much of their time waiting for external resources (like network or file operations) and the GIL is released during these waiting periods.\n",
        "For CPU-bound tasks in Python, multiprocessing is generally a better choice as it bypasses the GIL by creating separate processes with their own interpreters.\n",
        "\n",
        "3. When to choose which\n",
        "\n",
        "Multithreading:\n",
        "\n",
        "For I/O-bound tasks that involve waiting for resources, such as network requests, file I/O, or database operations.\n",
        "For creating responsive user interfaces where one thread can handle user interactions while another performs background operations.\n",
        "\n",
        "Multiprocessing:\n",
        "For CPU-bound tasks that require significant computational power, such as image processing, scientific simulations, or data analysis, where true parallel execution on multiple cores can significantly improve performance.\n",
        "When needing to bypass Python's GIL limitations for CPU-bound tasks.\n",
        "\n",
        "4. Other considerations\n",
        "Complexity: Multithreaded programming can be more challenging to debug and manage due to shared memory and potential race conditions. Multiprocessing, while simpler in terms of avoiding shared memory issues, incurs the overhead of creating and managing separate processes.\n",
        "\n",
        "Overhead: Process creation and inter-process communication (IPC) in multiprocessing have a higher overhead than thread creation and communication, according to Indeed. However, the GIL-related overhead in multithreading can negate its benefits for CPU-bound tasks, according to the Built In article.\n",
        "The choice between multithreading and multiprocessing depends heavily on the specific needs of the application, the nature of the tasks, and the underlying hardware architecture."
      ],
      "metadata": {
        "id": "xgSuw1_ILNf9"
      }
    },
    {
      "cell_type": "markdown",
      "source": [
        "#Q10. What are the advantages of using logging in a program?\n"
      ],
      "metadata": {
        "id": "BVoAHIh3LoKt"
      }
    },
    {
      "cell_type": "markdown",
      "source": [
        "Ans. Advantages of using logging in a program\n",
        "\n",
        "Logging is a vital tool in software development and plays a crucial role in building robust, reliable, and maintainable applications. It allows developers to capture and record information about what's happening within their applications, especially when things don't go as expected.\n",
        "\n",
        "Here are some key advantages:\n",
        "\n",
        "1. Troubleshooting and debugging\n",
        "Logging provides crucial insights into the execution flow of a program, making it easier to pinpoint the source of errors and unexpected behavior.\n",
        "When a bug occurs in a production environment, debug logs allow developers to reconstruct the events leading up to the error, helping identify the root cause without having to reproduce the issue in a debugger.\n",
        "Logs provide valuable context about the application's state when an error occurs, such as variable values, system status, and the sequence of events leading up to the error, making it easier to understand and fix issues quickly.\n",
        "\n",
        "2. Performance monitoring\n",
        "\n",
        "Logging allows developers to monitor system performance by tracking response times, resource utilization, and other key metrics, providing valuable insights for optimizing code and infrastructure.\n",
        "By logging specific parameters like database query execution times, or resource utilization, developers can identify bottlenecks and optimize software performance.\n",
        "\n",
        "3. Security auditing and compliance\n",
        "\n",
        "Logging plays a crucial role in security auditing by capturing information about login attempts, access to sensitive data, and other security-related events.\n",
        "Log files provide an audit trail for compliance with various regulations like GDPR, PCI-DSS, and SOX, which often mandate logging requirements for specific events, according to Mezmo.\n",
        "Logging can help detect unauthorized access attempts, data leaks, and other suspicious activities, allowing for proactive monitoring of potential security threats.\n",
        "\n",
        "4. User behavior analysis\n",
        "\n",
        "Logging user actions, preferences, and patterns can provide valuable insights into user engagement and behavior within the application.\n",
        "This data can be used to make informed decisions about feature development, UI/UX improvements, and enhancing user satisfaction, according to Timus Consulting Services.\n",
        "\n",
        "5. Proactive problem detection and alerts\n",
        "\n",
        "Logging enables setting up alerts based on specific log patterns, allowing for proactive detection and resolution of issues before they significantly impact users.\n",
        "Monitoring tools integrated with logging can trigger alerts for critical error rates or specific log message patterns, enabling faster incident response and reducing downtime.\n",
        "\n",
        "6. Improved collaboration and communication\n",
        "\n",
        "Logs act as a single source of truth for developers and administrators, facilitating communication and understanding within a team about system behavior and issues, says the NASSCOM Community.\n",
        "Sharing log lines and their context can streamline workflows and reduce the time spent explaining the same issues repeatedly, according to Blazeclan.\n",
        "\n",
        "7. Better decision-making and business intelligence\n",
        "\n",
        "Analyzing log data can provide valuable insights into application performance, user behavior, and system health, enabling data-driven decisions for strategic planning and optimization.\n",
        "Understanding historical event patterns from logs can aid in fine-tuning processes and enhancing the user experience, leading to improved business performance.\n",
        "\n",
        "8. Maintainability and system longevity\n",
        "\n",
        "Well-structured logs enhance maintainability by providing a clear record of system activities, making it easier for new team members to understand the system and expedite problem identification.\n",
        "\n",
        "Logging helps prevent unexpected breakdowns by tracking regular maintenance and identifying potential issues before they escalate, extending equipment lifespan in various industries.\n",
        "\n",
        "In conclusion, logging is more than just a simple tool; it's a fundamental practice in software development that provides a window into an application's behavior and performance. By embracing effective logging strategies, developers can improve debugging, monitor performance, enhance security, gain valuable insights, and ensure the reliability and maintainability of their applications."
      ],
      "metadata": {
        "id": "gcDa4hoQLuiS"
      }
    },
    {
      "cell_type": "markdown",
      "source": [
        "#Q11. What is memory management in Python?\n"
      ],
      "metadata": {
        "id": "keO2I8XiMSV8"
      }
    },
    {
      "cell_type": "markdown",
      "source": [
        "Ans. Memory management in Python\n",
        "\n",
        "Python's memory management system is a complex and highly optimized process that automatically handles memory allocation and deallocation, freeing developers from the burden of manual memory management. This is a significant advantage compared to languages like C or C++, where developers must explicitly allocate and deallocate memory using functions like malloc(), calloc(), and free().\n",
        "\n",
        "Here's how Python manages memory:\n",
        "\n",
        "1. Private heap space\n",
        "\n",
        "When a Python program starts, it creates a dedicated area of memory called a private heap space.\n",
        "All Python objects (variables, lists, dictionaries, etc.) are stored within this private heap.\n",
        "\n",
        "2. Memory allocation\n",
        "\n",
        "When you create a new object in Python, the memory manager automatically allocates a block of memory from the heap to store it.\n",
        "The size of the allocated memory depends on the object's type and size.\n",
        "Python uses an optimized memory allocator called pymalloc for smaller objects (less than or equal to 512 bytes) with a shorter lifespan.\n",
        "For larger objects, Python falls back to the system's memory allocator, like malloc().\n",
        "\n",
        "3. Reference counting\n",
        "\n",
        "Python's primary method for managing memory is reference counting.\n",
        "Every object in Python has a reference count, which tracks the number of references (or aliases) pointing to it.\n",
        "When a new reference to an object is created, its reference count increases.\n",
        "When a reference is deleted or goes out of scope, the reference count decreases.\n",
        "When an object's reference count reaches zero, it signifies that the object is no longer referenced by any part of the program.\n",
        "At this point, Python automatically deallocates the memory occupied by that object, making it available for reuse.\n",
        "Reference counting is an efficient way to clean up objects immediately as they are no longer needed.\n",
        "\n",
        "4. Garbage collection\n",
        "\n",
        "While reference counting handles most memory management, it cannot detect circular references.\n",
        "Circular references occur when two or more objects reference each other in a closed loop, even if no other parts of the program reference them.\n",
        "To address this, Python uses a generational garbage collector that periodically scans for circular references.\n",
        "The garbage collector classifies objects into three generations based on their age: Generation 0 (youngest), Generation 1 (middle-aged), and Generation 2 (oldest).\n",
        "It runs more frequently on younger generations, assuming that most objects are short-lived and likely to become unused quickly.\n",
        "If an object survives a garbage collection cycle, it is promoted to an older generation.\n",
        "The garbage collector uses algorithms like mark and sweep to detect and remove circular references.\n",
        "During the mark phase, it identifies objects reachable from the program's roots (global variables, local variables in active function calls).\n",
        "In the sweep phase, it deallocates the memory occupied by unmarked objects, which are considered garbage.\n",
        "You can interact with the garbage collector using the gc module to manually trigger collections, set thresholds, or disable it temporarily, according to DataCamp.\n",
        "\n",
        "5. Memory optimization techniques\n",
        "\n",
        "Even though Python's memory management is largely automatic, you can use various techniques to optimize memory usage, especially for large datasets or performance-critical applications.\n",
        "Use generators for large datasets to process data lazily, one element at a time, instead of loading the entire dataset into memory.\n",
        "Leverage __slots__ in classes to define a fixed set of attributes, reducing memory overhead compared to using dynamic dictionaries, according to DataCamp.\n",
        "Employ weak references to create references that don't increase an object's reference count, useful for caches or observer patterns without causing memory leaks.\n",
        "\n",
        "Use the array module for homogeneous numeric data, which can be more memory-efficient than lists.\n",
        "\n",
        "Optimize coding techniques like string concatenation and avoid unnecessary object creation in loops.\n",
        "\n",
        "Utilize tools like memory_profiler or tracemalloc to analyze memory usage and pinpoint bottlenecks, according to DataCamp.\n",
        "\n",
        "By understanding these principles and implementing memory-efficient coding practices, you can write Python programs that perform optimally and avoid potential memory-related issues like memory leaks."
      ],
      "metadata": {
        "id": "bTh9tPL0MZcp"
      }
    },
    {
      "cell_type": "markdown",
      "source": [
        "#Q12. What are the basic steps involved in exception handling in Python?\n"
      ],
      "metadata": {
        "id": "ZOZ--3FgMwsS"
      }
    },
    {
      "cell_type": "markdown",
      "source": [
        "Ans.Basic steps in exception handling in Python\n",
        "\n",
        "Exception handling in Python is a structured way to deal with errors and unexpected situations that occur during program execution. It prevents your program from crashing and allows you to respond gracefully to these events.\n",
        "\n",
        "The basic steps involve using the following keywords in conjunction:\n",
        "\n",
        "1. try\n",
        "\n",
        "The try block contains the code that you suspect might raise an exception.\n",
        "Python will attempt to execute the code within this block.\n",
        "If an exception occurs, the remaining code within the try block is skipped, and control is transferred to the appropriate except block.\n",
        "\n",
        "2. except\n",
        "\n",
        "The except block specifies the type of exception you want to catch and handle.\n",
        "If an exception occurs in the try block and its type matches the one specified in the except block, the code within this except block is executed.\n",
        "You can have multiple except blocks to handle different types of exceptions separately.\n",
        "\n",
        "You can also catch multiple exceptions in a single except block by providing a tuple of exception types (e.g., except (ValueError, ZeroDivisionError):).\n",
        "A general except block (without specifying an exception type) will catch any exception not caught by the preceding except blocks. However, using specific exception handlers is generally recommended for better code clarity and\n",
        "debugging, says DataCamp.\n",
        "\n",
        "3. else (optional)\n",
        "\n",
        "The else block (if present) is executed only if no exception is raised within the try block.\n",
        "It's useful for code that should only run if the try block completes successfully.\n",
        "\n",
        "4. finally (optional)\n",
        "\n",
        "The finally block is always executed, regardless of whether an exception occurred in the try block, according to AlmaBetter.\n",
        "\n",
        "It's commonly used for cleanup operations, such as closing files or releasing resources, ensuring these actions are performed under all circumstances.\n",
        "\n",
        "Here's an example demonstrating the use of all these blocks:\n",
        "python\n",
        "def divide_numbers(a, b):\n",
        "    try:\n",
        "        result = a / b\n",
        "    except ZeroDivisionError:\n",
        "        print(\"Error: Cannot divide by zero!\")\n",
        "    except ValueError: # Catching specific exception\n",
        "        print(\"Invalid input. Please enter valid numbers.\")\n",
        "    else:\n",
        "        print(f\"Division successful! Result is: {result}\")\n",
        "    finally:\n",
        "        print(\"This block always executes.\")\n",
        "\n",
        "divide_numbers(10, 2)  # Output: Division successful! Result is: 5.0  This block always executes.\n",
        "divide_numbers(5, 0)   # Output: Error: Cannot divide by zero!  This block always executes.\n",
        "divide_numbers(\"ten\", 2) # Output: Invalid input. Please enter valid numbers. This block always executes.\n",
        "Use code with caution.\n",
        "\n",
        "5. raise (for raising exceptions)\n",
        "\n",
        "You can explicitly raise an exception in your code using the raise keyword.\n",
        "This allows you to signal an error or an exceptional situation at a specific point in your code, according to Real Python.\n",
        "You can raise built-in exceptions or define and raise custom exceptions.\n",
        "python\n",
        "def check_age(age):\n",
        "    if not isinstance(age, int):\n",
        "        raise TypeError(\"Age must be an integer.\")\n",
        "    if age < 0:\n",
        "        raise ValueError(\"Age cannot be negative.\")\n",
        "    print(f\"Age is: {age}\")\n",
        "\n",
        "try:\n",
        "    check_age(30)\n",
        "    check_age(-5)\n",
        "except ValueError as e:\n",
        "    print(f\"Caught an error: {e}\")\n",
        "except TypeError as e:\n",
        "    print(f\"Caught a type error: {e}\")\n",
        "\n",
        "# Output:\n",
        "# Age is: 30\n",
        "# Caught an error: Age cannot be negative.\n",
        "Use code with caution.\n",
        "\n",
        "By following these basic steps and using the try, except, else, and finally blocks, you can effectively handle exceptions in your Python code, making your programs more robust, reliable, and user-friendly."
      ],
      "metadata": {
        "id": "z-_TjzsIM2hy"
      }
    },
    {
      "cell_type": "markdown",
      "source": [
        "#Q13. Why is memory management important in Python?\n"
      ],
      "metadata": {
        "id": "72UPvJ5WNSyL"
      }
    },
    {
      "cell_type": "markdown",
      "source": [
        "Ans. Python's automatic memory management, primarily handled by reference counting and the garbage collector, frees developers from manual memory allocation and deallocation. This simplifies development, reduces the likelihood of memory leaks and dangling pointers (common issues in languages like C or C++), and improves developer productivity. However, understanding\n",
        "\n",
        "how Python manages memory is crucial for several reasons:\n",
        "\n",
        "1. Preventing performance degradation\n",
        "\n",
        "Memory Leaks: While Python's garbage collector strives to reclaim unused memory, certain situations, like circular references or improper handling of resources, can lead to memory leaks. If not addressed, memory leaks can cause applications to consume an ever-increasing amount of memory, leading to slowdowns, unresponsiveness, and potentially even crashes.\n",
        "\n",
        "Thrashing: Excessive memory usage can cause the operating system to start moving data between RAM and disk (paging), which is a much slower process than accessing data in RAM. This can significantly impact application performance and user experience.\n",
        "Impact on Scalability: Inefficient memory management can hinder an application's ability to handle increasing workloads and user connections. Fixing memory leaks and optimizing memory use improves scalability, especially for applications that need to handle high demand.\n",
        "\n",
        "2. Optimizing resource utilization\n",
        "\n",
        "Minimizing Memory Footprint: Understanding Python's memory management allows developers to write more memory-efficient code by choosing appropriate data structures, utilizing generators, and avoiding unnecessary object creation. This reduces the demand on system resources and can lead to faster processing speeds.\n",
        "Efficient Data Handling: In fields like data science and machine learning, dealing with large datasets is common. Effective memory management ensures that programs can process these datasets without exhausting available memory, allowing for smoother data analysis and model training.\n",
        "\n",
        "3. Maintaining stability and reliability\n",
        "\n",
        "Preventing Crashes: Memory leaks and other memory-related issues can cause applications to crash, resulting in data loss and poor user experience. Effective memory management practices enhance application stability and reliability.\n",
        "Security Vulnerabilities: Memory leaks can potentially expose sensitive information to security risks if data remains in memory longer than necessary.\n",
        "\n",
        "4. Better debugging and troubleshooting\n",
        "\n",
        "Identifying Memory Bottlenecks: Understanding memory management, coupled with the use of memory profiling tools like memory_profiler and tracemalloc, helps developers identify areas in their code that are consuming the most memory or causing leaks.\n",
        "\n",
        "Root Cause Analysis: When an application encounters memory issues, knowledge of memory management aids in diagnosing the root cause and implementing targeted solutions.\n",
        "\n",
        "In conclusion, while Python's automatic memory management simplifies development, a solid grasp of its workings is essential for writing robust, efficient, and scalable applications, especially when dealing with large datasets or performance-critical tasks."
      ],
      "metadata": {
        "id": "ZGHeVd_yNax3"
      }
    },
    {
      "cell_type": "markdown",
      "source": [
        "#Q14. What is the role of try and except in exception handling?\n"
      ],
      "metadata": {
        "id": "FnB9Y44uN0kB"
      }
    },
    {
      "cell_type": "markdown",
      "source": [
        "Ans. Try and except in exception handling\n",
        "\n",
        "In Python, try and except are fundamental statements for handling exceptions, which are events that disrupt the normal flow of a program's execution.\n",
        "\n",
        "Try block\n",
        "\n",
        "The try block encloses a section of code that might potentially raise an exception. Python attempts to execute the code within this block. If no exception occurs, the except block is skipped.\n",
        "\n",
        "Except block\n",
        "\n",
        "The except block defines the code to be executed when a specific type of exception is raised within the corresponding try block. This block allows you to handle the error gracefully, preventing the program from crashing abruptly. You can specify different except blocks for different exception types or use a general except block to catch a broader range of exceptions.\n",
        "python\n",
        "\n",
        "try:\n",
        "    # Code that might raise an exception\n",
        "    result = 10 / 0  # This will raise a ZeroDivisionError\n",
        "    print(result)\n",
        "except ZeroDivisionError:\n",
        "    # Code to handle the exception\n",
        "    print(\"Error: Cannot divide by zero!\")\n",
        "Use code with caution.\n",
        "\n",
        "In this example, the try block attempts to perform a division by zero, which raises a ZeroDivisionError. The except ZeroDivisionError block catches this specific exception and prints an error message, allowing the program to continue executing instead of crashing."
      ],
      "metadata": {
        "id": "PgQSxT64OC4p"
      }
    },
    {
      "cell_type": "markdown",
      "source": [],
      "metadata": {
        "id": "gcCPaNaHOUv3"
      }
    },
    {
      "cell_type": "markdown",
      "source": [
        "#Q15. How does Python's garbage collection system work?\n"
      ],
      "metadata": {
        "id": "NbchMt9WOVDp"
      }
    },
    {
      "cell_type": "markdown",
      "source": [
        "Ans. Python's garbage collection system\n",
        "\n",
        "Python's garbage collection system is responsible for automatically managing memory by reclaiming memory occupied by objects that are no longer in use. It employs a combination of reference counting and generational garbage collection to achieve this goal, according to Built In.\n",
        "\n",
        "1. Reference counting\n",
        "\n",
        "Mechanism: Each object in Python maintains a reference count, which tracks the number of references pointing to it. When a new reference is created (e.g., by assigning an object to a variable or adding it to a container), the reference count increases. Conversely, when a reference is removed (e.g., by deleting a variable or when a function scope ends), the reference count decreases.\n",
        "Deallocation: When an object's reference count reaches zero, it indicates that no part of the program is currently referencing the object, and it is immediately deallocated, freeing up the memory it occupies.\n",
        "Limitation: Reference counting, while efficient for most cases, cannot handle circular references. A circular reference occurs when two or more objects reference each other, creating a cycle where their reference counts never reach zero, preventing them from being deallocated even when they are no longer accessible from the main program.\n",
        "\n",
        "2. Generational garbage collection\n",
        "\n",
        "To address the limitation of reference counting with circular references, Python's garbage collector uses a generational approach. Objects are grouped into three generations based on their age: Generation 0 (youngest), Generation 1 (middle), and Generation 2 (oldest). New objects begin in Generation 0 and are promoted to older generations if they survive garbage collection cycles.\n",
        "The garbage collector periodically runs to detect and break circular references using algorithms like mark-and-sweep. It identifies reachable objects and then deallocates the unreachable ones. Younger generations are collected more frequently because they are more likely to contain objects that can be deallocated.\n",
        "\n",
        "Python's gc module\n",
        "\n",
        "The gc module provides an interface to interact with the garbage collector. It allows developers to enable or disable automatic garbage collection, manually trigger collection cycles, and inspect or adjust collection thresholds and access debugging information.\n",
        "\n",
        "Understanding Python's garbage collection helps developers write more memory-efficient code."
      ],
      "metadata": {
        "id": "AmyF6m2uOcSc"
      }
    },
    {
      "cell_type": "markdown",
      "source": [
        "#Q16. What is the purpose of the else block in exception handling?\n"
      ],
      "metadata": {
        "id": "G6BMpnH5OrjA"
      }
    },
    {
      "cell_type": "markdown",
      "source": [
        "Ans. The else block in Python's try-except-else statement\n",
        "\n",
        "The else block in Python's exception handling is an optional part of the try...except...else construct. It's designed to contain code that should be executed only if the code within the try block completes successfully without raising any exceptions.\n",
        "Purpose\n",
        "The main purpose of the else block is to clearly separate the \"successful execution\" logic from the \"error handling\" logic, improving code readability and robustness.\n",
        "When to use else\n",
        "Actions that depend on the success of the try block: If you have operations that should only proceed when the code in the try block finishes without errors, place them in the else block.\n",
        "Avoiding unintended catches: If you were to put the \"success\" code directly after the try block (without else), any exceptions raised by that code would also be caught by the except blocks, potentially masking errors you didn't intend to handle with those specific handlers. The else block prevents this by ensuring that its code is executed only after the try block is verified to be exception-free.\n",
        "Example\n",
        "python\n",
        "try:\n",
        "    # Code that might raise an exception\n",
        "    num1 = int(input(\"Enter a numerator: \"))\n",
        "    num2 = int(input(\"Enter a denominator: \"))\n",
        "    result = num1 / num2\n",
        "except ValueError:\n",
        "    print(\"Invalid input. Please enter integers.\")\n",
        "except ZeroDivisionError:\n",
        "    print(\"Cannot divide by zero!\")\n",
        "else:\n",
        "    # This code runs ONLY if no exceptions were raised\n",
        "    print(f\"The division result is: {result}\")\n",
        "\n",
        "print(\"Program continues here...\")\n",
        "Use code with caution.\n",
        "\n",
        "In this example:\n",
        "\n",
        "If the user enters non-integer input, a ValueError is raised, and the corresponding except block is executed.\n",
        "\n",
        "If the user enters zero as the denominator, a ZeroDivisionError is raised, and that except block is executed.\n",
        "\n",
        "However, if the user enters valid integers and no division-by-zero error occurs, the else block will execute, printing the division result.\n",
        "In essence, the else block provides a clean and clear way to execute code that's conditional on the absence of exceptions within the try block, enhancing the overall structure and error handling of your Python programs."
      ],
      "metadata": {
        "id": "M1dQ_SlEOyhq"
      }
    },
    {
      "cell_type": "markdown",
      "source": [
        "#Q17.  What are the common logging levels in Python?\n"
      ],
      "metadata": {
        "id": "paAJeK07O9AL"
      }
    },
    {
      "cell_type": "markdown",
      "source": [
        "Ans. Common logging levels in Python\n",
        "\n",
        "Python's built-in logging module provides a flexible framework for logging events within your applications. A core aspect of this framework is the use of logging levels, which categorize messages based on their severity or importance. These levels allow you to filter and control which messages are processed and where they are output.\n",
        "\n",
        "The standard Python logging levels, listed in order of increasing severity, include:\n",
        "\n",
        "DEBUG (10): For detailed diagnostic information.\n",
        "\n",
        "INFO (20): Used to confirm things are working as expected or for general operational flow information.\n",
        "\n",
        "WARNING (30): Indicates something unexpected happened or a potential future problem.\n",
        "\n",
        "ERROR (40): Indicates a serious problem where a function could not be performed, though the program may continue.\n",
        "\n",
        "CRITICAL (50): A serious error where the program may not be able to continue running.\n",
        "\n",
        "There is also a NOTSET (0) level for loggers to delegate processing decisions to their parent. Dash0\n",
        "\n",
        "Key takeaways\n",
        "\n",
        "Each level has an integer value.\n",
        "\n",
        "Setting a logger's level processes messages at that level and higher.\n",
        "\n",
        "The root logger's default level is WARNING.\n",
        "\n",
        "Levels help manage verbosity and prioritize messages.\n",
        "\n",
        "Using standard levels is generally recommended."
      ],
      "metadata": {
        "id": "L3T5gnmmPE44"
      }
    },
    {
      "cell_type": "markdown",
      "source": [
        "#Q18. What is the difference between os.fork() and multiprocessing in Python?\n"
      ],
      "metadata": {
        "id": "mzGsDF-qPXF-"
      }
    },
    {
      "cell_type": "markdown",
      "source": [
        "Ans. os.fork() versus multiprocessing in Python\n",
        "In Python, os.fork() and the multiprocessing module both allow for the creation of new processes, enabling concurrent or parallel execution. However, they differ significantly in their approach, portability, and ease of use.\n",
        "\n",
        "os.fork()\n",
        "\n",
        "Mechanism: os.fork() is a lower-level function available only on Unix-like operating systems (Linux, macOS, etc.).\n",
        "\n",
        "Process Creation: It creates a child process that is an almost exact copy of the parent process at the time of the fork call. Both parent and child continue execution from the point where os.fork() was called.\n",
        "\n",
        "Return Value: os.fork() returns 0 in the child process and the child's process ID (PID) in the parent process.\n",
        "\n",
        "Resource Sharing: Initially, the child process inherits a copy of the parent's memory, file descriptors, and other resources. However, after the fork, they become independent entities, and changes in one do not reflect in the other.\n",
        "\n",
        "Limitations:\n",
        "\n",
        "Not Available on Windows: This is a major limitation, as os.fork() cannot be used on Windows systems.\n",
        "\n",
        "Potential for Deadlocks: If the parent process uses threads or has locked resources, forking can lead to deadlocks and inconsistencies in the child process because the locked resources might not be properly transferred or released.\n",
        "\n",
        "Complexity: Managing the parent-child relationship, communication, and synchronization manually with os.fork() can be complex and error-prone.\n",
        "multiprocessing module\n",
        "Mechanism: This module provides a higher-level, cross-platform API for creating and managing processes, according to the Python documentation.\n",
        "Process Creation: It allows you to create new processes, using different \"start methods\" depending on the operating system.\n",
        "fork (Unix-like systems): This method uses os.fork() internally and has similar characteristics to directly calling os.fork().\n",
        "spawn (Windows, macOS default): This method starts a fresh Python interpreter process for the child process, which only inherits the necessary resources to run the target function. It avoids the issues associated with forking a multithreaded process.\n",
        "forkserver (Unix-like systems): This method starts a server process that then forks new child processes from a clean state.\n",
        "Inter-Process Communication (IPC): The multiprocessing module provides built-in tools for communication and synchronization between processes, such as:\n",
        "Queue: A First-In-First-Out (FIFO) queue for safely exchanging data.\n",
        "Pipe: A two-way communication channel between two processes.\n",
        "Lock: A primitive for controlling access to shared resources.\n",
        "Manager: Allows sharing of Python objects (like lists, dictionaries) between processes.\n",
        "Portability: The multiprocessing module is designed to work across different operating systems, simplifying cross-platform development.\n",
        "Ease of Use: It provides a more structured and robust way to manage multiprocessing, especially when dealing with complex scenarios like shared state or communication.\n",
        "When to use each\n",
        "os.fork(): You might consider os.fork() if you need fine-grained control over process creation, are working exclusively on Unix-like systems, and understand the potential complexities and limitations, especially with multithreading.\n",
        "multiprocessing module: For most general-purpose multiprocessing in Python, the multiprocessing module is the recommended approach. It provides a more robust and portable solution, especially when dealing with data sharing and synchronization between processes.\n",
        "It is important to remember that using os.fork() directly with multithreaded applications is generally considered unsafe and can lead to unexpected behavior or crashes, according to Medium. The multiprocessing module, especially with the spawn or forkserver start methods, mitigates these risks by creating new processes more cleanly"
      ],
      "metadata": {
        "id": "IQooOo1qPgCQ"
      }
    },
    {
      "cell_type": "markdown",
      "source": [
        "#Q19. What is the importance of closing a file in Python?\n"
      ],
      "metadata": {
        "id": "6JiUuJR8P4bY"
      }
    },
    {
      "cell_type": "markdown",
      "source": [
        "Ans. The importance of closing files in Python\n",
        "Properly closing files in Python is essential for several reasons, ensuring data integrity, efficient resource management, and robust application behavior.\n",
        "\n",
        "1. Resource management\n",
        "\n",
        "System Resource Allocation: When you open a file, the operating system allocates resources like memory and file handles to manage it.\n",
        "Preventing Resource Leaks: These resources are finite. If you fail to close files, the resources remain allocated, leading to resource leaks. Over time, this can degrade system performance or even cause your program to crash, particularly if it opens many files or runs for long periods.\n",
        "\n",
        "2. Data integrity and consistency\n",
        "\n",
        "Buffering and Flushing: When you write to a file in Python, the data is often stored in a temporary buffer in memory before being physically written to disk.\n",
        "Ensuring Data is Saved: Closing the file explicitly ensures that the buffer is flushed, meaning all data is written to the file, preserving data integrity. If the program crashes or terminates unexpectedly before the file is closed, data in the buffer may be lost or corrupted.\n",
        "\n",
        "3. Avoiding errors and conflicts\n",
        "\n",
        "File Locks: Some operating systems lock files while they are open, preventing other processes from accessing or modifying them. This can lead to conflicts and errors.\n",
        "Preventing \"Too Many Open Files\" Errors: Operating systems impose limits on the number of files a program can have open simultaneously. Failing to close files can lead to hitting this limit, resulting in errors or crashes when trying to open new files.\n",
        "\n",
        "4. Best practices and maintainability\n",
        "\n",
        "Clean Code and Readability: Explicitly closing files makes your code clearer about when file operations are complete, improving readability and maintainability.\n",
        "Cross-platform Compatibility: Different operating systems handle open files differently. Explicitly closing files ensures more consistent behavior across different environments.\n",
        "Best ways to ensure files are closed\n",
        "Using the with statement (Recommended): The with statement in Python is the preferred way to handle files. It acts as a context manager, automatically ensuring that file.close() is called when the block of code is exited, even if an exception occurs.\n",
        "Using try...finally block: This construct guarantees that the finally block will always execute, regardless of whether an exception occurs in the try block. This allows you to place the file.close() call within the finally block to ensure it's executed.\n",
        "In summary, closing files after use is crucial for robust, efficient, and reliable Python programs. While Python and the operating system may attempt to clean up open files when a program exits, relying on this behavior is considered bad practice. Explicitly closing files or using context managers like the with statement helps prevent resource leaks, data loss, and unexpected errors, ultimately leading to more stable and maintainable applications."
      ],
      "metadata": {
        "id": "s2lZ4YDLQADe"
      }
    },
    {
      "cell_type": "markdown",
      "source": [
        "#Q20. What is the difference between file.read() and file.readline() in Python?\n"
      ],
      "metadata": {
        "id": "U_AGez_hQRhE"
      }
    },
    {
      "cell_type": "markdown",
      "source": [
        "Ans. file.read() vs. file.readline() in Python\n",
        "\n",
        "The file.read() and file.readline() methods in Python are both used for reading data from a file, but they differ significantly in their approach and the type of data they return.\n",
        "\n",
        "Here's a breakdown of the differences:\n",
        "\n",
        "file.read()\n",
        "\n",
        "Reads the Entire File: When called without arguments, file.read() reads the entire content of the file and returns it as a single string.\n",
        "Optional Argument: You can provide an optional integer argument to read() to specify the number of characters (or bytes in binary mode) to read from the file.\n",
        "\n",
        "Use Cases:\n",
        "\n",
        "Reading small files where loading the entire content into memory is acceptable.\n",
        "When you need to perform operations that involve the entire file content as a single string, such as regular expression searches or substitutions.\n",
        "Memory Considerations: For very large files, using file.read() without specifying a size can be inefficient or even cause memory errors, as it attempts to load the entire file into memory at once.\n",
        "\n",
        "file.readline()\n",
        "\n",
        "Reads a Single Line: file.readline() reads a single line from the file and returns it as a string, including the newline character at the end (unless it's the last line and the file doesn't end with a newline).\n",
        "\n",
        "Moves the File Pointer: Each call to file.readline() moves the file pointer to the beginning of the next line.\n",
        "\n",
        "End-of-File Handling: When readline() reaches the end of the file, it returns an empty string ''.\n",
        "\n",
        "Use Cases:\n",
        "Processing files line by line, especially for large files, where loading the entire file into memory is not feasible or efficient.\n",
        "Parsing structured data where each line represents a distinct record or piece of information.\n",
        "\n",
        "Efficiency: readline() can be more memory-efficient than read() for large files because it only reads one line at a time, avoiding the need to load the entire file into memory at once.\n",
        "\n",
        "Summary of differences\n",
        "\n",
        "Here's a summary of the differences between file.read() and file.readline():\n",
        "Feature/Aspect \tfile.read()\tfile.readline()\n",
        "\n",
        "Functionality\tReads the entire file content.\tReads one line at a time.\n",
        "\n",
        "Return Type\tReturns a single string.\tReturns a single line as a string.\n",
        "\n",
        "Memory\tLess efficient for large files, loads all content into memory.\tMore efficient for large files, reads one line at a time.\n",
        "\n",
        "Use Case\tSuitable for small files or when the entire content is needed.\tIdeal for large files or processing line by line.\n",
        "\n",
        "End of File\tReturns an empty string for an empty file.\tReturns an empty string '' when the end is reached.\n",
        "\n",
        "Choosing between read() and readline() depends on your needs and file size. read() is good for small files, while readline() is better for large files or line-by-line processing. Remember to close files after use."
      ],
      "metadata": {
        "id": "ItxZ3l3-QdMl"
      }
    },
    {
      "cell_type": "markdown",
      "source": [
        "#Q21. What is the logging module in Python used for?\n"
      ],
      "metadata": {
        "id": "2QA2fERBQ3qW"
      }
    },
    {
      "cell_type": "markdown",
      "source": [
        "Ans. Python's built-in logging module is a powerful and flexible tool for tracking events that happen when your software runs. It provides a standardized and configurable way to record information about your application's behavior and state during execution, which is crucial for debugging, monitoring, and analysis.\n",
        "\n",
        "Key functionalities and benefits\n",
        "\n",
        "Debugging and Troubleshooting: Logging creates a \"breadcrumb trail\" of events, helping developers understand the flow of the program and pinpoint the source of errors or unexpected behavior, especially in complex applications where print() statements fall short.\n",
        "\n",
        "Monitoring Application Behavior: By strategically placing log statements at key points in your code, you can track various aspects of your application's performance, resource utilization, and overall health in real-time or offline analysis.\n",
        "\n",
        "Error Detection and Root Cause Analysis: The logging module allows capturing error messages, stack traces, and relevant contextual information when exceptions occur, providing invaluable data for diagnosing issues and determining how and where problems originated.\n",
        "\n",
        "Customizable Logging Levels: Python's logging system offers various severity levels (DEBUG, INFO, WARNING, ERROR, CRITICAL) that allow you to categorize and prioritize log messages based on their importance. This enables you to filter out unnecessary details in production while capturing deep diagnostics during development.\n",
        "\n",
        "Flexible Output Destinations (Handlers): You can direct log messages to different destinations using various handlers, including the console (StreamHandler), files (FileHandler, RotatingFileHandler), network sockets (SocketHandler, HTTPHandler), emails (SMTPHandler), and more.\n",
        "Configurable Log Formats: Formatters allow you to control the structure and content of your log messages, adding valuable contextual information like timestamps, logger names, log levels, and even thread or process IDs, according to Real Python.\n",
        "Centralized Logging: The module facilitates centralized logging by allowing you to integrate with logging solutions that collect and analyze logs from various services and components of your application.\n",
        "Audit and Compliance: In many industries, regulations mandate maintaining audit trails of specific events. Python logging provides a standardized mechanism to capture and record these events, helping ensure compliance with regulatory requirements.\n",
        "Why it's preferred over print() statements\n",
        "While print() statements can be used for basic debugging, they lack the flexibility and power of the logging module. Key differences include:\n",
        "\n",
        "Control and Filtering: Logging allows you to control which messages are emitted and their level of detail based on their severity.\n",
        "Output Destinations: Logging can send output to various destinations, not just the console.\n",
        "\n",
        "\n",
        "Structured Information: Logs can be structured to include more information than simple messages.\n",
        "Long-Term Storage and Analysis: Logs can be persisted for long-term analysis and monitoring, which is not easily achievable with print() statements.\n",
        "In essence, Python's logging module is an indispensable tool for developing, debugging, and maintaining robust and reliable applications. It helps you understand what's happening within your code, track errors, monitor performance, and meet compliance needs."
      ],
      "metadata": {
        "id": "su7RYwKmQ-J_"
      }
    },
    {
      "cell_type": "markdown",
      "source": [
        "#Q22. What is the os module in Python used for in file handling?\n",
        "\n"
      ],
      "metadata": {
        "id": "5vIaFbBtRien"
      }
    },
    {
      "cell_type": "markdown",
      "source": [
        "Ans. The os module in Python provides a powerful and convenient way to interact with the operating system, especially when dealing with file and directory operations. Think of it as a bridge between your Python program and the underlying operating system (Windows, macOS, or Linux).\n",
        "\n",
        "Here's how the os module is used in file handling:\n",
        "\n",
        "1. File and directory manipulation\n",
        "\n",
        "Getting the current working directory: os.getcwd() returns the current working directory, which is where your Python script is currently running.\n",
        "Changing the current working directory: os.chdir(path) allows you to change the current working directory to a specified path.\n",
        "Creating directories: os.mkdir(path) creates a single directory, while os.makedirs(path) creates directories recursively, including any necessary parent directories.\n",
        "Deleting files and directories: os.remove(path) deletes a file, while os.rmdir(path) removes an empty directory. os.removedirs(path) removes directories recursively.\n",
        "Renaming files and directories: os.rename(src, dst) renames a file or directory from src to dst.\n",
        "Listing directory contents: os.listdir(path) returns a list of files and\n",
        "directories within a given path.\n",
        "\n",
        "2. File information and paths\n",
        "\n",
        "Checking existence: os.path.exists(path) checks whether a given file or directory exists.\n",
        "Getting file size: os.path.getsize(path) retrieves the size of a file in bytes.\n",
        "Joining paths: os.path.join() helps create file paths by joining directory and file names, handling platform-specific separators.\n",
        "Extracting file extensions: os.path.splitext() can be used to extract the file extension from a path.\n",
        "\n",
        "3. Advanced file operations\n",
        "\n",
        "File descriptors: The os module provides low-level functions like os.open() and os.close() to work directly with file descriptors, offering finer control over file handling compared to the built-in open() function.\n",
        "File permissions: os.chmod() changes file permissions using numeric modes.\n",
        "Executing system commands: os.system() allows you to execute shell commands directly from your Python script.\n",
        "\n",
        "The os module makes your code more portable, as it abstracts away the\n",
        "\n",
        "differences in file system structures across different operating systems. While the built-in open() function is suitable for most file I/O operations, the os module and its submodules, especially os.path, offer more detailed control and information regarding the file system itself.\n"
      ],
      "metadata": {
        "id": "Qw6zq7H85eW-"
      }
    },
    {
      "cell_type": "markdown",
      "source": [
        "#Q23. What are the challenges associated with memory management in Python?\n"
      ],
      "metadata": {
        "id": "hXB9fM9n5zgX"
      }
    },
    {
      "cell_type": "markdown",
      "source": [
        "Ans. Despite its generally efficient and automatic memory management, Python (specifically the CPython implementation) presents several challenges, particularly when dealing with performance-critical applications or large datasets.\n",
        "\n",
        "Here are some of the key challenges associated with memory management in Python:\n",
        "\n",
        "Memory leaks (circular references): This is one of the most common and challenging memory-related issues in Python. While reference counting, Python's primary garbage collection mechanism, automatically deallocates objects when their reference count drops to zero, it fails to collect objects involved in circular references (where objects directly or indirectly reference each other). This can lead to a gradual accumulation of unused memory, causing performance degradation and potential crashes.\n",
        "\n",
        "Memory fragmentation: When memory is allocated and deallocated in a non-contiguous manner, the available memory can become fragmented into small, unusable pieces. This can prevent the allocation of larger memory blocks, even if enough total memory is free.\n",
        "\n",
        "High memory consumption and overhead: Python objects generally have a higher memory footprint compared to objects in lower-level languages like C++. This is due to the dynamic nature of Python objects, including object headers and dictionaries used for attribute storage. This can lead to increased memory usage, especially with many objects.\n",
        "\n",
        "Limited control over memory allocation and deallocation: Python's automatic memory management simplifies development but offers developers less control over the precise timing of memory allocation and deallocation compared to languages like C++. This can be a drawback in applications requiring fine-grained memory control for deterministic cleanup or optimization.\n",
        "\n",
        "Performance impact of garbage collection: While garbage collection is designed to be efficient, it can introduce a performance overhead, especially in applications that frequently create and destroy numerous objects. This can manifest as temporary pauses in program execution while the garbage collector runs.\n",
        "\n",
        "Difficulty in diagnosing and fixing memory issues: Memory leaks and other memory-related problems can be challenging to identify and debug in Python. This often requires specialized tools and techniques to monitor and analyze memory usage patterns. Tools like memory_profiler, tracemalloc, and objgraph can be helpful in this regard."
      ],
      "metadata": {
        "id": "GDyrFpJe57O7"
      }
    },
    {
      "cell_type": "markdown",
      "source": [
        "#Q24. How do you raise an exception manually in Python?\n"
      ],
      "metadata": {
        "id": "TwT1S-fD6cHb"
      }
    },
    {
      "cell_type": "markdown",
      "source": [
        "Ans. Manually raising exceptions in Python\n",
        "You can deliberately raise exceptions in Python using the raise statement. This allows you to signal that an error or unusual condition has occurred within your program and halt its normal flow.\n",
        "Basic usage\n",
        "The simplest way to raise an exception is to use the raise keyword followed by an instance of an exception class:"
      ],
      "metadata": {
        "id": "hVsryJ426jD_"
      }
    },
    {
      "cell_type": "markdown",
      "source": [
        "raise ValueError(\"Invalid input provided\")\n"
      ],
      "metadata": {
        "id": "ODuUN5tR6_rB"
      }
    },
    {
      "cell_type": "markdown",
      "source": [
        "In this example, a ValueError is raised with a custom message. The program will stop execution at this point and display a traceback, indicating where the exception occurred.\n",
        "\n",
        "Specifying the exception type\n",
        "\n",
        "Python offers a wide range of built-in exceptions to choose from, or you can create your own custom exceptions. It's best practice to choose an appropriate and specific exception type that accurately represents the error condition.\n",
        "Built-in exceptions: Python provides a rich set of built-in exceptions for common error conditions. For example, ValueError is suitable for invalid values, TypeError for incorrect data types, and FileNotFoundError for missing files.\n",
        "Custom exceptions: You can define your own custom exceptions by creating a new class that inherits from the built-in Exception class or one of its subclasses. This allows for more tailored error messages and handling behavior for specific situations in your application."
      ],
      "metadata": {
        "id": "flyjOowx66Pm"
      }
    },
    {
      "cell_type": "code",
      "source": [
        "class InsufficientFundsError(Exception):\n",
        "    def __init__(self, message, balance):\n",
        "        super().__init__(message)\n",
        "        self.balance = balance\n",
        "\n",
        "def withdraw(amount, balance):\n",
        "    if amount > balance:\n",
        "        raise InsufficientFundsError(\"Insufficient funds to complete withdrawal\", balance)\n",
        "    # ... further withdrawal logic\n"
      ],
      "metadata": {
        "id": "JakQftp_7BAI"
      },
      "execution_count": null,
      "outputs": []
    },
    {
      "cell_type": "markdown",
      "source": [
        "When to raise an exception\n",
        "\n",
        "You should raise exceptions when your program encounters an error or exceptional situation that it cannot handle gracefully without external\n",
        "\n",
        "intervention. Some common scenarios include:\n",
        "\n",
        "Input validation: To ensure that input data meets specific criteria, such as type, range, or format.\n",
        "API misuse: To prevent incorrect usage of your library or module by providing clear error messages.\n",
        "\n",
        "Resource unavailability: When a required resource, like a file or database connection, cannot be accessed.\n",
        "\n",
        "\n",
        "Key takeaways\n",
        "\n",
        "Use the raise keyword to manually raise exceptions in Python.\n",
        "\n",
        "Choose a specific and appropriate exception type to accurately represent the error condition.\n",
        "\n",
        "Provide a clear and informative error message that helps users understand the issue.\n",
        "\n",
        "You can create custom exception classes by inheriting from the Exception class or its subclasses."
      ],
      "metadata": {
        "id": "0Civhkg17Foq"
      }
    },
    {
      "cell_type": "markdown",
      "source": [
        "#Q25. Why is it important to use multithreading in certain applications?"
      ],
      "metadata": {
        "id": "wkvrVLKD7Ug-"
      }
    },
    {
      "cell_type": "markdown",
      "source": [
        "Multithreading is a programming technique that allows a single program to execute multiple parts of its code, called threads, concurrently. Each thread represents an independent flow of instructions within the same process, sharing the same memory space and resources.\n",
        "\n",
        "Here are some key reasons why multithreading is important in certain applications:\n",
        "\n",
        "1. Improved responsiveness\n",
        "\n",
        "Multithreading ensures that applications remain interactive, even during resource-intensive operations.\n",
        "For example, in a graphical user interface (GUI) application, a dedicated UI thread can manage user interactions (like clicks and keystrokes), while other threads handle background tasks such as data loading or calculations.\n",
        "This separation prevents the UI from freezing or becoming unresponsive, providing a smoother user experience.\n",
        "\n",
        "2. Enhanced performance\n",
        "\n",
        "Multithreading boosts performance by allowing tasks to run concurrently, especially on systems with multiple CPU cores. This is particularly useful for CPU-intensive tasks like data processing and rendering graphics.\n",
        "\n",
        "3. Better resource utilization\n",
        "\n",
        "By keeping multiple threads active, multithreading helps applications fully utilize available CPU resources, minimizing idle time and maximizing efficiency.\n",
        "\n",
        "4. Simplified program structure\n",
        "\n",
        "Breaking a program into threads can simplify complex tasks, making code easier to manage and debug. Different threads can handle distinct parts of a program independently, such as managing client requests and database interactions in a web server.\n",
        "\n",
        "5. Other benefits\n",
        "\n",
        "Cost-effectiveness: Creating threads is less resource-intensive than creating multiple processes because they share the same memory.\n",
        "Faster Context Switching: Switching between threads is generally faster than switching between processes.\n",
        "\n",
        "Improved Communication: Threads within the same process can communicate more easily.\n",
        "\n",
        "While multithreading offers advantages, it also presents challenges like managing synchronization and avoiding race conditions and deadlocks, which increase program complexity. Careful design is needed to effectively use multithreading."
      ],
      "metadata": {
        "id": "BbJ7et037fA0"
      }
    },
    {
      "cell_type": "markdown",
      "source": [
        "# Practical Questions"
      ],
      "metadata": {
        "id": "Ea1IYirb7xS4"
      }
    },
    {
      "cell_type": "markdown",
      "source": [
        "#Q1. How can you open a file for writing in Python and write a string to it?\n"
      ],
      "metadata": {
        "id": "4LYQ6umC72rE"
      }
    },
    {
      "cell_type": "markdown",
      "source": [
        "Use the open() function to open the file, specifying the file path (or just the filename if it's in the same directory as your Python script) and the desired write mode.\n",
        "The main modes for writing are:\n",
        "'w' (Write mode): This mode opens the file for writing. If the file exists, it will truncate it (i.e., delete all existing content) before writing. If the file doesn't exist, a new file is created.\n",
        "'a' (Append mode): This mode opens the file for writing, but any new content will be appended to the end of the existing content without overwriting it. If the file doesn't exist, a new file is created.\n",
        "The recommended way to open files in Python is using the with open() statement. This ensures that the file is automatically closed, even if errors occur, preventing potential resource leaks.\n",
        "python"
      ],
      "metadata": {
        "id": "ETozB3ls8OLW"
      }
    },
    {
      "cell_type": "code",
      "source": [
        "# Open the file in write mode ('w')\n",
        "with open(\"my_file.txt\", \"w\") as file:\n",
        "    # Write a string to the file\n",
        "    file.write(\"Hello, this is a string written to the file.\\n\")\n",
        "\n",
        "# Open the file in append mode ('a')\n",
        "with open(\"my_file.txt\", \"a\") as file:\n",
        "    # Append another string to the end of the file\n",
        "    file.write(\"This is an appended line.\\n\")\n"
      ],
      "metadata": {
        "id": "9VD0YSot8PzE"
      },
      "execution_count": 2,
      "outputs": []
    },
    {
      "cell_type": "markdown",
      "source": [
        "#2. Writing the string\n"
      ],
      "metadata": {
        "id": "vwnoD5Vg8aeX"
      }
    },
    {
      "cell_type": "markdown",
      "source": [
        "Once the file is opened in write or append mode, you can use the write() method of the file object to write a string to it. The write() method takes a single argument, which is the string you want to write to the file.\n"
      ],
      "metadata": {
        "id": "9gFyN03c8V64"
      }
    },
    {
      "cell_type": "code",
      "source": [
        "with open(\"my_output.txt\", \"w\") as f:\n",
        "    f.write(\"This is some text.\\n\")\n",
        "    f.write(\"And this is another line.\\n\")\n"
      ],
      "metadata": {
        "id": "uH6UiuTq7-7p"
      },
      "execution_count": 3,
      "outputs": []
    },
    {
      "cell_type": "markdown",
      "source": [
        "#Q2.Write a Python program to read the contents of a file and print each line?\n"
      ],
      "metadata": {
        "id": "3N0RZLO_8ipY"
      }
    },
    {
      "cell_type": "code",
      "source": [
        "def read_and_print_file_lines(filename):\n",
        "    \"\"\"\n",
        "    Reads the content of a file line by line and prints each line to the console.\n",
        "\n",
        "    Args:\n",
        "        filename (str): The path to the file to be read.\n",
        "    \"\"\"\n",
        "    try:\n",
        "        # Open the file in read mode ('r') using a 'with' statement for safe handling\n",
        "        with open(filename, 'r') as file:\n",
        "            # Iterate through each line in the file object\n",
        "            for line in file:\n",
        "                # Print the line. The .strip() method removes leading/trailing whitespace,\n",
        "                # including the newline character that readlines() includes.\n",
        "                print(line.strip())\n",
        "    except FileNotFoundError:\n",
        "        print(f\"Error: The file '{filename}' was not found.\")\n",
        "    except Exception as e:\n",
        "        print(f\"An unexpected error occurred: {e}\")\n",
        "\n",
        "# Example Usage:\n",
        "if __name__ == \"__main__\":\n",
        "    # Create a sample file for demonstration\n",
        "    sample_file_name = \"sample.txt\"\n",
        "    try:\n",
        "        with open(sample_file_name, \"w\") as f:\n",
        "            f.write(\"This is the first line.\\n\")\n",
        "            f.write(\"This is the second line.\\n\")\n",
        "            f.write(\"And the third line with some extra spaces.   \\n\")\n",
        "    except IOError as e:\n",
        "        print(f\"Error creating the sample file: {e}\")\n",
        "    else:\n",
        "        # Call the function to read and print the contents of the file\n",
        "        print(f\"Reading contents of '{sample_file_name}':\")\n",
        "        read_and_print_file_lines(sample_file_name)\n",
        "\n",
        "        # Example with a non-existent file\n",
        "        print(\"\\nAttempting to read a non-existent file:\")\n",
        "        read_and_print_file_lines(\"non_existent_file.txt\")\n"
      ],
      "metadata": {
        "colab": {
          "base_uri": "https://localhost:8080/"
        },
        "id": "THkxvi2u8s9j",
        "outputId": "e337cce9-cbfd-4436-bf20-541c959f544b"
      },
      "execution_count": 4,
      "outputs": [
        {
          "output_type": "stream",
          "name": "stdout",
          "text": [
            "Reading contents of 'sample.txt':\n",
            "This is the first line.\n",
            "This is the second line.\n",
            "And the third line with some extra spaces.\n",
            "\n",
            "Attempting to read a non-existent file:\n",
            "Error: The file 'non_existent_file.txt' was not found.\n"
          ]
        }
      ]
    },
    {
      "cell_type": "markdown",
      "source": [
        "#Q3. How would you handle a case where the file doesn't exist while trying to open it for reading?\n"
      ],
      "metadata": {
        "id": "93UbSrkf80re"
      }
    },
    {
      "cell_type": "markdown",
      "source": [
        "When you attempt to open a file for reading in Python and it doesn't exist, a FileNotFoundError will be raised. To prevent your program from crashing and to handle this situation gracefully, you can use Python's exception handling mechanisms, specifically the try-except block.\n",
        "Here are the primary ways to handle a FileNotFoundError:\n",
        "1. Using a try-except block\n",
        "This is the most common and recommended approach for handling potential errors, including FileNotFoundError, during file operations.\n",
        "Using a try-except block allows you to attempt the file opening operation and catch the FileNotFoundError if it occurs.\n",
        "For examples of how to implement a try-except block to handle FileNotFoundError, or alternative methods using os.path.exists() or the pathlib module, please refer to LabEx labex.io.\n",
        "In summary, the try-except FileNotFoundError approach is considered the most Pythonic for handling cases where a file might not exist when you attempt to open it. Checking for file existence beforehand with os.path.exists() or pathlib.Path.is_file() are also viable options depending on your program's specific needs."
      ],
      "metadata": {
        "id": "3a0N9vjT88yD"
      }
    },
    {
      "cell_type": "markdown",
      "source": [
        "#Q4. Write a Python script that reads from one file and writes its content to another file?\n"
      ],
      "metadata": {
        "id": "ZhW2Sf0c9Omk"
      }
    },
    {
      "cell_type": "markdown",
      "source": [
        "Ans. Python script to copy file content\n",
        "This Python script reads the content of a specified input file and writes it to a new output file. It includes error handling for cases where the input file does not exist or other input/output errors occur."
      ],
      "metadata": {
        "id": "FS4Yi6XT9dGE"
      }
    },
    {
      "cell_type": "code",
      "source": [
        "def copy_file_content(source_file_path, destination_file_path):\n",
        "    \"\"\"\n",
        "    Reads the content of the source file and writes it to the destination file.\n",
        "\n",
        "    Args:\n",
        "        source_file_path (str): The path to the file to be read (source file).\n",
        "        destination_file_path (str): The path to the file where content will be written (destination file).\n",
        "    \"\"\"\n",
        "    try:\n",
        "        # Open the source file in read mode ('r').\n",
        "        # Use a 'with' statement for automatic file closing, even if errors occur.\n",
        "        with open(source_file_path, 'r') as input_file:\n",
        "            # Read all lines from the input file.\n",
        "            lines = input_file.readlines()\n",
        "\n",
        "        # Open the destination file in write mode ('w').\n",
        "        # If the file exists, its content will be overwritten.\n",
        "        # If the file doesn't exist, a new file will be created.\n",
        "        with open(destination_file_path, 'w') as output_file:\n",
        "            # Write each line to the destination file.\n",
        "            for line in lines:\n",
        "                output_file.write(line)\n",
        "        print(f\"Content successfully copied from '{source_file_path}' to '{destination_file_path}'.\")\n",
        "\n",
        "    except FileNotFoundError:\n",
        "        # Handle the case where the source file does not exist.\n",
        "        print(f\"Error: The source file '{source_file_path}' was not found.\")\n",
        "    except IOError as e:\n",
        "        # Handle other potential input/output errors during file operations.\n",
        "        print(f\"An I/O error occurred: {e}\")\n",
        "    except Exception as e:\n",
        "        # Catch any other unexpected errors.\n",
        "        print(f\"An unexpected error occurred: {e}\")\n",
        "\n",
        "\n",
        "if __name__ == \"__main__\":\n",
        "    # Define paths for the source and destination files.\n",
        "    source_file = \"source.txt\"\n",
        "    destination_file = \"destination.txt\"\n",
        "\n",
        "    # Create a dummy source file for demonstration.\n",
        "    try:\n",
        "        with open(source_file, \"w\") as f:\n",
        "            f.write(\"This is the first line of the source file.\\n\")\n",
        "            f.write(\"This is the second line.\\n\")\n",
        "            f.write(\"And this is the final line.\")\n",
        "        print(f\"'{source_file}' created with sample content.\")\n",
        "    except IOError as e:\n",
        "        print(f\"Error creating '{source_file}': {e}\")\n",
        "\n",
        "    # Call the function to copy the content.\n",
        "    copy_file_content(source_file, destination_file)\n",
        "\n",
        "    # Verify the content of the destination file.\n",
        "    try:\n",
        "        with open(destination_file, 'r') as f:\n",
        "            print(f\"\\nContent of '{destination_file}':\")\n",
        "            print(f.read())\n",
        "    except FileNotFoundError:\n",
        "        print(f\"Error: The destination file '{destination_file}' was not found after copying.\")\n",
        "    except IOError as e:\n",
        "        print(f\"An I/O error occurred while reading '{destination_file}': {e}\")\n",
        "\n",
        "    # Example of handling a non-existent source file.\n",
        "    print(\"\\nAttempting to copy from a non-existent source file:\")\n",
        "    copy_file_content(\"non_existent_source.txt\", \"another_destination.txt\")\n",
        "\n"
      ],
      "metadata": {
        "colab": {
          "base_uri": "https://localhost:8080/"
        },
        "id": "mcxk65FO9fGU",
        "outputId": "97cd9b95-35ae-4fcf-d3a6-66a65f8370f1"
      },
      "execution_count": 5,
      "outputs": [
        {
          "output_type": "stream",
          "name": "stdout",
          "text": [
            "'source.txt' created with sample content.\n",
            "Content successfully copied from 'source.txt' to 'destination.txt'.\n",
            "\n",
            "Content of 'destination.txt':\n",
            "This is the first line of the source file.\n",
            "This is the second line.\n",
            "And this is the final line.\n",
            "\n",
            "Attempting to copy from a non-existent source file:\n",
            "Error: The source file 'non_existent_source.txt' was not found.\n"
          ]
        }
      ]
    },
    {
      "cell_type": "markdown",
      "source": [
        "#Q5.How would you catch and handle division by zero error in Python?\n"
      ],
      "metadata": {
        "id": "yFCVdFOE9mcQ"
      }
    },
    {
      "cell_type": "markdown",
      "source": [
        "In Python, attempting to divide a number by zero results in a ZeroDivisionError. This exception, which inherits from ArithmeticError, signals that a division or modulo operation was performed with a denominator or divisor of 0. To prevent your program from crashing and to handle this error\n",
        "\n",
        "gracefully, you can use several techniques:\n",
        "\n",
        "1. try-except block (exception handling)\n",
        "\n",
        "This is the most common and robust approach. You enclose the potentially error-prone code (the division operation) within a try block, and if a ZeroDivisionError occurs, the code within the except ZeroDivisionError: block is executed, allowing you to gracefully handle the error instead of causing the program to terminate abruptly."
      ],
      "metadata": {
        "id": "lhUdoqn_9u_m"
      }
    },
    {
      "cell_type": "code",
      "source": [
        "try:\n",
        "    numerator = 10\n",
        "    denominator = 0\n",
        "    result = numerator / denominator\n",
        "    print(f\"Result: {result}\")\n",
        "except ZeroDivisionError:\n",
        "    print(\"Error: Cannot divide by zero.\")  # Output: Error: Cannot divide by zero.\n",
        "except Exception as e: # Catch other potential errors, if necessary\n",
        "    print(f\"An unexpected error occurred: {e}\")\n"
      ],
      "metadata": {
        "colab": {
          "base_uri": "https://localhost:8080/"
        },
        "id": "Rpfo8q0B92xa",
        "outputId": "fc70415d-4361-4909-c546-78baf7685792"
      },
      "execution_count": 6,
      "outputs": [
        {
          "output_type": "stream",
          "name": "stdout",
          "text": [
            "Error: Cannot divide by zero.\n"
          ]
        }
      ]
    },
    {
      "cell_type": "markdown",
      "source": [
        "#Q6. Write a Python program that logs an error message to a log file when a division by zero exception occurs?\n"
      ],
      "metadata": {
        "id": "OO3rOjMN-AMo"
      }
    },
    {
      "cell_type": "code",
      "source": [
        "import logging\n",
        "\n",
        "# Configure the logging module\n",
        "# This sets up a basic configuration that will:\n",
        "# - Log messages to a file named 'app_errors.log'\n",
        "# - Include the timestamp, levelname, and the message in the log entry\n",
        "# - Set the logging level to ERROR, meaning only messages of ERROR severity or higher will be logged\n",
        "logging.basicConfig(filename='app_errors.log', level=logging.ERROR,\n",
        "                    format='%(asctime)s - %(levelname)s - %(message)s')\n",
        "\n",
        "def divide_numbers(numerator, denominator):\n",
        "    try:\n",
        "        result = numerator / denominator\n",
        "        logging.info(f\"Division successful: {numerator} / {denominator} = {result}\")  # Log successful operation\n",
        "        return result\n",
        "    except ZeroDivisionError as e:\n",
        "        # Log the error message with the exception details\n",
        "        logging.error(f\"Division by zero error: {e}\", exc_info=True)\n",
        "        return None\n",
        "    except Exception as e:\n",
        "        # Log any other unexpected exceptions\n",
        "        logging.exception(f\"An unexpected error occurred: {e}\")\n",
        "        return None\n",
        "\n",
        "if __name__ == \"__main__\":\n",
        "    # Test cases\n",
        "    print(\"Dividing 10 by 2:\")\n",
        "    divide_numbers(10, 2)  # Should execute successfully\n",
        "\n",
        "    print(\"\\nDividing 10 by 0:\")\n",
        "    divide_numbers(10, 0)  # Will cause ZeroDivisionError and log it\n",
        "\n",
        "    print(\"\\nDividing 'a' by 2 (will cause a TypeError):\")\n",
        "    divide_numbers('a', 2) # Example of another error type to illustrate handling of generic exceptions\n",
        "\n"
      ],
      "metadata": {
        "colab": {
          "base_uri": "https://localhost:8080/"
        },
        "id": "Hus9OLqs-HRE",
        "outputId": "1fe3b87e-458f-49ab-faf0-75593b7e149b"
      },
      "execution_count": 7,
      "outputs": [
        {
          "output_type": "stream",
          "name": "stderr",
          "text": [
            "ERROR:root:Division by zero error: division by zero\n",
            "Traceback (most recent call last):\n",
            "  File \"/tmp/ipython-input-7-2491575097.py\", line 13, in divide_numbers\n",
            "    result = numerator / denominator\n",
            "             ~~~~~~~~~~^~~~~~~~~~~~~\n",
            "ZeroDivisionError: division by zero\n",
            "ERROR:root:An unexpected error occurred: unsupported operand type(s) for /: 'str' and 'int'\n",
            "Traceback (most recent call last):\n",
            "  File \"/tmp/ipython-input-7-2491575097.py\", line 13, in divide_numbers\n",
            "    result = numerator / denominator\n",
            "             ~~~~~~~~~~^~~~~~~~~~~~~\n",
            "TypeError: unsupported operand type(s) for /: 'str' and 'int'\n"
          ]
        },
        {
          "output_type": "stream",
          "name": "stdout",
          "text": [
            "Dividing 10 by 2:\n",
            "\n",
            "Dividing 10 by 0:\n",
            "\n",
            "Dividing 'a' by 2 (will cause a TypeError):\n"
          ]
        }
      ]
    },
    {
      "cell_type": "markdown",
      "source": [
        "#Q7. How do you log information at different levels (INFO, ERROR, WARNING) in Python using the logging module?\n"
      ],
      "metadata": {
        "id": "rslrlioZ-k3f"
      }
    },
    {
      "cell_type": "markdown",
      "source": [
        "The Python logging module offers a flexible way to categorize and filter log messages based on their severity using logging levels. These levels are crucial for managing the volume of log data and prioritizing what's most important for a given context.\n",
        "\n",
        "The standard logging levels, from least to most severe, are: DEBUG (10), INFO (20), WARNING (30), ERROR (40), and CRITICAL (50).\n",
        " Each level serves a specific purpose in indicating the nature of a log message.\n",
        "\n",
        "DEBUG: Detailed information for troubleshooting.\n",
        "\n",
        "INFO: Confirmation that things are working as expected.\n",
        "\n",
        "WARNING: Potential issue or unexpected event.\n",
        "\n",
        "ERROR: Problems affecting some functionality.\n",
        "\n",
        "CRITICAL: Severe errors indicating the program may stop"
      ],
      "metadata": {
        "id": "SJ6O2CyC-7Qj"
      }
    },
    {
      "cell_type": "markdown",
      "source": [
        "Ans.import logging\n",
        "\n",
        "# Basic configuration to log messages to the console\n",
        "logging.basicConfig(level=logging.INFO, format='%(asctime)s - %(levelname)s - %(message)s')\n",
        "\n",
        "# Log messages at different levels\n",
        "logging.info(\"This is an informational message.\")\n",
        "logging.warning(\"This is a warning message, something unexpected occurred.\")\n",
        "logging.error(\"This is an error message, a function has failed to execute.\")\n",
        "logging.debug(\"This is a debug message (will not be seen in the output).\") # Not shown with level=INFO"
      ],
      "metadata": {
        "id": "1PZBCZ-4-r8b"
      }
    },
    {
      "cell_type": "markdown",
      "source": [
        "Explaining the code\n",
        "\n",
        "import logging: Imports the module.\n",
        "\n",
        "logging.basicConfig(...): Sets up the basic logging configuration.\n",
        "level=logging.INFO: Determines the minimum severity level to log (INFO and above will be processed).\n",
        "\n",
        "format='...': Defines the output format of log messages.\n",
        "\n",
        "logging.info(...), logging.warning(...), logging.error(...), logging.debug(...): Functions to log messages at their respective levels.\n",
        "\n",
        "Controlling log output\n",
        "\n",
        "The level parameter in basicConfig() controls which messages are displayed. For example, setting level=logging.DEBUG will include debug messages.\n",
        "\n",
        "Important considerations\n",
        "\n",
        "Call basicConfig() before other logging methods.\n",
        "\n",
        "By default, logs go to the console.\n",
        "\n",
        "For advanced scenarios, use handlers and formatters.\n",
        "\n",
        "Using appropriate logging levels helps manage application information flow, aiding debugging and monitoring."
      ],
      "metadata": {
        "id": "Ld_XoC7-_AO8"
      }
    },
    {
      "cell_type": "markdown",
      "source": [
        "#Q8. Write a program to handle a file opening error using exception handling?\n"
      ],
      "metadata": {
        "id": "c70bA2fT_LNe"
      }
    },
    {
      "cell_type": "code",
      "source": [
        "def open_and_read_file(filename):\n",
        "    try:\n",
        "        # Attempt to open the file in read mode ('r')\n",
        "        with open(filename, 'r') as file:  # Using 'with' ensures the file is closed automatically\n",
        "            content = file.read()\n",
        "            print(f\"File '{filename}' opened successfully. Content:\\n{content}\")\n",
        "            return content\n",
        "    except FileNotFoundError:\n",
        "        # Handle the case where the file doesn't exist\n",
        "        print(f\"Error: The file '{filename}' was not found. Please check the filename and path.\")\n",
        "        return None\n",
        "    except PermissionError:\n",
        "        # Handle the case where the program doesn't have permission to access the file\n",
        "        print(f\"Error: Permission denied to access '{filename}'. Check file permissions.\")\n",
        "        return None\n",
        "    except IOError as e:\n",
        "        # Catch other potential I/O errors (e.g., file corrupted, device full)\n",
        "        print(f\"Error: An I/O error occurred while accessing '{filename}': {e}\")\n",
        "        return None\n",
        "    except Exception as e:\n",
        "        # Catch any other unexpected exceptions\n",
        "        print(f\"An unexpected error occurred: {e}\")\n",
        "        return None\n",
        "\n",
        "if __name__ == \"__main__\":\n",
        "    # Test cases\n",
        "\n",
        "    # 1. Trying to open a file that exists and has correct permissions\n",
        "    print(\"--- Test Case 1: Existing file ---\")\n",
        "    with open(\"example.txt\", \"w\") as f:\n",
        "        f.write(\"Hello from example.txt!\")\n",
        "    open_and_read_file(\"example.txt\")\n",
        "\n",
        "    # 2. Trying to open a file that does not exist\n",
        "    print(\"\\n--- Test Case 2: Non-existent file ---\")\n",
        "    open_and_read_file(\"nonexistent_file.txt\")\n",
        "\n",
        "    # 3. Trying to open a file without read permissions (demonstrates PermissionError)\n",
        "    #    Note: This might require specific OS setup or running as a non-privileged user.\n",
        "    #    On Linux/macOS, you can create a file and set permissions:\n",
        "    #    touch restricted.txt\n",
        "    #    chmod 000 restricted.txt  (removes all permissions)\n",
        "    print(\"\\n--- Test Case 3: Restricted permissions file ---\")\n",
        "    # For demonstration, let's create a file with no permissions (works on Unix-like systems)\n",
        "    import os\n",
        "    try:\n",
        "        restricted_filename = \"restricted_file.txt\"\n",
        "        with open(restricted_filename, \"w\") as f:\n",
        "            f.write(\"This file is restricted.\")\n",
        "        os.chmod(restricted_filename, 0o000)  # Remove all permissions\n",
        "        open_and_read_file(restricted_filename)\n",
        "        os.remove(restricted_filename) # Clean up\n",
        "    except Exception as e:\n",
        "        print(f\"Could not perform permission test due to: {e}\")\n",
        "\n",
        "    # 4. Trying to open a directory as a file (IsADirectoryError, subclass of OSError)\n",
        "    print(\"\\n--- Test Case 4: Opening a directory as a file ---\")\n",
        "    try:\n",
        "        os.mkdir(\"test_directory\")\n",
        "        open_and_read_file(\"test_directory\")\n",
        "        os.rmdir(\"test_directory\")\n",
        "    except Exception as e:\n",
        "        print(f\"Could not perform directory test due to: {e}\")\n"
      ],
      "metadata": {
        "colab": {
          "base_uri": "https://localhost:8080/"
        },
        "id": "rp3D5G2Q_jO1",
        "outputId": "a506347e-990b-4136-9273-51314ee99a05"
      },
      "execution_count": 8,
      "outputs": [
        {
          "output_type": "stream",
          "name": "stdout",
          "text": [
            "--- Test Case 1: Existing file ---\n",
            "File 'example.txt' opened successfully. Content:\n",
            "Hello from example.txt!\n",
            "\n",
            "--- Test Case 2: Non-existent file ---\n",
            "Error: The file 'nonexistent_file.txt' was not found. Please check the filename and path.\n",
            "\n",
            "--- Test Case 3: Restricted permissions file ---\n",
            "File 'restricted_file.txt' opened successfully. Content:\n",
            "This file is restricted.\n",
            "\n",
            "--- Test Case 4: Opening a directory as a file ---\n",
            "Error: An I/O error occurred while accessing 'test_directory': [Errno 21] Is a directory: 'test_directory'\n"
          ]
        }
      ]
    },
    {
      "cell_type": "markdown",
      "source": [
        "#Q9. How can you read a file line by line and store its content in a list in Python\n"
      ],
      "metadata": {
        "id": "W5-tr5A1_l3X"
      }
    },
    {
      "cell_type": "markdown",
      "source": [
        "Ans. Method 1: Using readlines()\n",
        "The readlines() method of a file object reads all the lines of the file and returns them as a list of strings, where each element represents a line including the newline character \\n at the end."
      ],
      "metadata": {
        "id": "cjiuMlqQ_R1y"
      }
    },
    {
      "cell_type": "code",
      "source": [
        "with open(\"my_file.txt\", \"r\") as file:  # Open the file in read mode ('r')\n",
        "    lines = file.readlines()\n",
        "print(lines)\n"
      ],
      "metadata": {
        "colab": {
          "base_uri": "https://localhost:8080/"
        },
        "id": "TsRu5xcj_4Oh",
        "outputId": "e43bb0e3-8dee-47f3-a045-eef342319287"
      },
      "execution_count": 9,
      "outputs": [
        {
          "output_type": "stream",
          "name": "stdout",
          "text": [
            "['Hello, this is a string written to the file.\\n', 'This is an appended line.\\n']\n"
          ]
        }
      ]
    },
    {
      "cell_type": "markdown",
      "source": [
        "Note: If you want to remove the newline characters from each line, you can use a list comprehension with the strip() or rstrip() method."
      ],
      "metadata": {
        "id": "I-T4Sobh_-6x"
      }
    },
    {
      "cell_type": "code",
      "source": [
        "with open(\"my_file.txt\", \"r\") as file:\n",
        "    lines = [line.strip() for line in file.readlines()] # removes leading/trailing whitespace including newline\n",
        "print(lines)\n"
      ],
      "metadata": {
        "colab": {
          "base_uri": "https://localhost:8080/"
        },
        "id": "C-CTjuPa__vP",
        "outputId": "03da5c16-fdfd-4655-bd80-24996474e882"
      },
      "execution_count": 10,
      "outputs": [
        {
          "output_type": "stream",
          "name": "stdout",
          "text": [
            "['Hello, this is a string written to the file.', 'This is an appended line.']\n"
          ]
        }
      ]
    },
    {
      "cell_type": "markdown",
      "source": [
        "Method 2: Using a for loop (recommended for large files)\n",
        "For larger files, it's more memory-efficient to iterate over the file object directly using a for loop, processing each line as it's read. This avoids loading the entire file into memory at once, which could lead to memory errors."
      ],
      "metadata": {
        "id": "EHC3BIjAADN6"
      }
    },
    {
      "cell_type": "code",
      "source": [
        "lines = []\n",
        "with open(\"my_file.txt\", \"r\") as file:\n",
        "    for line in file:\n",
        "        lines.append(line.strip()) # strips newline characters\n",
        "print(lines)\n"
      ],
      "metadata": {
        "colab": {
          "base_uri": "https://localhost:8080/"
        },
        "id": "2cmUcnCRAHzc",
        "outputId": "f3be78e5-1371-469b-e553-c8fe02d49067"
      },
      "execution_count": 11,
      "outputs": [
        {
          "output_type": "stream",
          "name": "stdout",
          "text": [
            "['Hello, this is a string written to the file.', 'This is an appended line.']\n"
          ]
        }
      ]
    },
    {
      "cell_type": "markdown",
      "source": [
        "#Q10.  How can you append data to an existing file in Python?\n"
      ],
      "metadata": {
        "id": "4xJRfZq9AKmw"
      }
    },
    {
      "cell_type": "code",
      "source": [
        "# Create a sample file first (if it doesn't exist)\n",
        "with open(\"my_file.txt\", \"w\") as f:\n",
        "    f.write(\"This is the original content.\\n\")\n",
        "\n",
        "# Now, open the file in append mode ('a') and add new data\n",
        "with open(\"my_file.txt\", \"a\") as file:\n",
        "    file.write(\"This line will be appended.\\n\")\n",
        "    file.write(\"And so will this one.\\n\")\n",
        "\n",
        "# Verify the content (optional)\n",
        "with open(\"my_file.txt\", \"r\") as file:\n",
        "    content = file.read()\n",
        "    print(content)\n"
      ],
      "metadata": {
        "colab": {
          "base_uri": "https://localhost:8080/"
        },
        "id": "cWQbbuaBARZq",
        "outputId": "df39be6b-1bdf-4df5-c91e-a01864c51af3"
      },
      "execution_count": 12,
      "outputs": [
        {
          "output_type": "stream",
          "name": "stdout",
          "text": [
            "This is the original content.\n",
            "This line will be appended.\n",
            "And so will this one.\n",
            "\n"
          ]
        }
      ]
    },
    {
      "cell_type": "markdown",
      "source": [
        "#Q11. Write a Python program that uses a try-except block to handle an error when attempting to access a dictionary key that doesn't exist?\n",
        "\n"
      ],
      "metadata": {
        "id": "6v6vzoeJAZnr"
      }
    },
    {
      "cell_type": "code",
      "source": [
        "my_dictionary = {\n",
        "    \"name\": \"Alice\",\n",
        "    \"age\": 30,\n",
        "    \"city\": \"New York\"\n",
        "}\n",
        "\n",
        "# Key that exists\n",
        "existing_key = \"name\"\n",
        "# Key that doesn't exist\n",
        "non_existent_key = \"occupation\"\n",
        "\n",
        "# Attempt to access an existing key\n",
        "try:\n",
        "    value = my_dictionary[existing_key]\n",
        "    print(f\"The value for '{existing_key}' is: {value}\")\n",
        "except KeyError:\n",
        "    print(f\"Error: The key '{existing_key}' was not found in the dictionary.\")\n",
        "\n",
        "print(\"-\" * 30)\n",
        "\n",
        "# Attempt to access a non-existent key\n",
        "try:\n",
        "    value = my_dictionary[non_existent_key]\n",
        "    print(f\"The value for '{non_existent_key}' is: {value}\")\n",
        "except KeyError:\n",
        "    print(f\"Error: The key '{non_existent_key}' was not found in the dictionary.\")\n"
      ],
      "metadata": {
        "colab": {
          "base_uri": "https://localhost:8080/"
        },
        "id": "50E3isaVA0HP",
        "outputId": "835c19a0-437e-4491-d10b-6644cdc6ce4c"
      },
      "execution_count": 13,
      "outputs": [
        {
          "output_type": "stream",
          "name": "stdout",
          "text": [
            "The value for 'name' is: Alice\n",
            "------------------------------\n",
            "Error: The key 'occupation' was not found in the dictionary.\n"
          ]
        }
      ]
    },
    {
      "cell_type": "markdown",
      "source": [
        "#Q12. Write a program that demonstrates using multiple except blocks to handle different types of exceptions?\n",
        "\n"
      ],
      "metadata": {
        "id": "PNSRr8I7Alvw"
      }
    },
    {
      "cell_type": "code",
      "source": [
        "def perform_operations(data, divisor, index):\n",
        "    try:\n",
        "        # Attempt to convert data to an integer\n",
        "        num = int(data)\n",
        "        print(f\"Converted data to integer: {num}\")\n",
        "\n",
        "        # Attempt division\n",
        "        result = num / divisor\n",
        "        print(f\"Division result: {result}\")\n",
        "\n",
        "        # Attempt to access a list element\n",
        "        my_list = [10, 20, 30]\n",
        "        element = my_list[index]\n",
        "        print(f\"Accessed element at index {index}: {element}\")\n",
        "\n",
        "    except ValueError:\n",
        "        print(\"Error: Invalid data. Could not convert to an integer.\")\n",
        "    except ZeroDivisionError:\n",
        "        print(\"Error: Cannot divide by zero.\")\n",
        "    except IndexError:\n",
        "        print(f\"Error: Invalid index {index}. Index is out of bounds.\")\n",
        "    except Exception as e:\n",
        "        print(f\"An unexpected error occurred: {e}\")\n",
        "\n",
        "if __name__ == \"__main__\":\n",
        "    print(\"--- Test Case 1: All operations successful ---\")\n",
        "    perform_operations(\"10\", 2, 1)\n",
        "\n",
        "    print(\"\\n--- Test Case 2: ValueError ---\")\n",
        "    perform_operations(\"abc\", 2, 1)\n",
        "\n",
        "    print(\"\\n--- Test Case 3: ZeroDivisionError ---\")\n",
        "    perform_operations(\"10\", 0, 1)\n",
        "\n",
        "    print(\"\\n--- Test Case 4: IndexError ---\")\n",
        "    perform_operations(\"10\", 2, 5)\n",
        "\n",
        "    print(\"\\n--- Test Case 5:  Multiple exceptions in one go  (order matters) ---\")\n",
        "    # This will trigger the ValueError first\n",
        "    perform_operations(\"xyz\", 0, 1)\n",
        "\n",
        "    print(\"\\n--- Test Case 6: Generic exception ---\")\n",
        "    # This might cause a different unexpected error, e.g., if we pass a complex number\n",
        "    # and then try to perform operations not supported on it\n",
        "    perform_operations(complex(2, 3), 1, 0)\n"
      ],
      "metadata": {
        "colab": {
          "base_uri": "https://localhost:8080/"
        },
        "id": "0KEGwbvmA9rM",
        "outputId": "f679d756-5930-4cf8-de7a-83e08af96557"
      },
      "execution_count": 14,
      "outputs": [
        {
          "output_type": "stream",
          "name": "stdout",
          "text": [
            "--- Test Case 1: All operations successful ---\n",
            "Converted data to integer: 10\n",
            "Division result: 5.0\n",
            "Accessed element at index 1: 20\n",
            "\n",
            "--- Test Case 2: ValueError ---\n",
            "Error: Invalid data. Could not convert to an integer.\n",
            "\n",
            "--- Test Case 3: ZeroDivisionError ---\n",
            "Converted data to integer: 10\n",
            "Error: Cannot divide by zero.\n",
            "\n",
            "--- Test Case 4: IndexError ---\n",
            "Converted data to integer: 10\n",
            "Division result: 5.0\n",
            "Error: Invalid index 5. Index is out of bounds.\n",
            "\n",
            "--- Test Case 5:  Multiple exceptions in one go  (order matters) ---\n",
            "Error: Invalid data. Could not convert to an integer.\n",
            "\n",
            "--- Test Case 6: Generic exception ---\n",
            "An unexpected error occurred: int() argument must be a string, a bytes-like object or a real number, not 'complex'\n"
          ]
        }
      ]
    },
    {
      "cell_type": "markdown",
      "source": [
        "#Q13. How would you check if a file exists before attempting to read it in Python?\n"
      ],
      "metadata": {
        "id": "uP1LZNJPBhmv"
      }
    },
    {
      "cell_type": "code",
      "source": [
        "import os\n",
        "\n",
        "filename = \"data.txt\"\n",
        "\n",
        "if os.path.exists(filename): # Checks if path exists, can be file or directory\n",
        "    if os.path.isfile(filename): # Checks if it's specifically a file\n",
        "        try:\n",
        "            with open(filename, 'r') as file:\n",
        "                content = file.read()\n",
        "                print(f\"Content of {filename}:\\n{content}\")\n",
        "        except PermissionError:\n",
        "            print(f\"Error: No permission to read {filename}\")\n",
        "        except Exception as e:\n",
        "            print(f\"An unexpected error occurred: {e}\")\n",
        "    else:\n",
        "        print(f\"Error: '{filename}' is a directory, not a file.\")\n",
        "else:\n",
        "    print(f\"Error: The file '{filename}' does not exist.\")\n"
      ],
      "metadata": {
        "colab": {
          "base_uri": "https://localhost:8080/"
        },
        "id": "gyfI5vjwBnHW",
        "outputId": "99a8900f-4d07-4252-92cb-ad474f757da7"
      },
      "execution_count": 15,
      "outputs": [
        {
          "output_type": "stream",
          "name": "stdout",
          "text": [
            "Error: The file 'data.txt' does not exist.\n"
          ]
        }
      ]
    },
    {
      "cell_type": "markdown",
      "source": [
        "#Q14. Write a program that uses the logging module to log both informational and error messages?\n"
      ],
      "metadata": {
        "id": "BlFAa2eVBxHW"
      }
    },
    {
      "cell_type": "code",
      "source": [
        "import logging\n",
        "import os\n",
        "\n",
        "def setup_logger(logger_name, log_file_path, level=logging.INFO):\n",
        "    \"\"\"\n",
        "    Sets up a logger with a FileHandler and a StreamHandler.\n",
        "\n",
        "    Parameters:\n",
        "        logger_name (str): The name of the logger.\n",
        "        log_file_path (str): The path to the log file.\n",
        "        level (int): The minimum logging level to capture (default: INFO).\n",
        "\n",
        "    Returns:\n",
        "        logging.Logger: The configured logger object.\n",
        "    \"\"\"\n",
        "\n",
        "    # Create logger and set its level\n",
        "    logger = logging.getLogger(logger_name)\n",
        "    logger.setLevel(level)\n",
        "\n",
        "    # Create a formatter for the log messages\n",
        "    formatter = logging.Formatter('%(asctime)s - %(name)s - %(levelname)s - %(message)s')\n",
        "\n",
        "    # Create a FileHandler to write logs to a file\n",
        "    #  Check if the directory exists, if not, create it\n",
        "    log_dir = os.path.dirname(log_file_path)\n",
        "    if log_dir and not os.path.exists(log_dir):\n",
        "        os.makedirs(log_dir)\n",
        "    file_handler = logging.FileHandler(log_file_path)\n",
        "    file_handler.setFormatter(formatter)\n",
        "\n",
        "    # Create a StreamHandler to output logs to the console\n",
        "    console_handler = logging.StreamHandler()\n",
        "    console_handler.setFormatter(formatter)\n",
        "\n",
        "    # Add handlers to the logger\n",
        "    logger.addHandler(file_handler)\n",
        "    logger.addHandler(console_handler)\n",
        "\n",
        "    return logger\n",
        "\n",
        "# Configure the logger (e.g., set the name and log file)\n",
        "my_logger = setup_logger(\"my_app\", \"app.log\", logging.DEBUG)\n",
        "\n",
        "# Log informational messages\n",
        "my_logger.info(\"Application started successfully.\")\n",
        "my_logger.info(\"User 'John Doe' logged in from IP address: 192.168.1.10.\")\n",
        "\n",
        "# Log an error message (e.g., when an exception occurs)\n",
        "try:\n",
        "    result = 10 / 0\n",
        "except ZeroDivisionError as e:\n",
        "    my_logger.error(\"An attempt was made to divide by zero: %s\", e)\n",
        "\n",
        "# Log another informational message\n",
        "my_logger.info(\"Processing complete.\")\n"
      ],
      "metadata": {
        "colab": {
          "base_uri": "https://localhost:8080/"
        },
        "id": "Zk_4eBGjB2ru",
        "outputId": "f1e0fdba-db16-437b-b9ad-acb8e2d5eee1"
      },
      "execution_count": 17,
      "outputs": [
        {
          "output_type": "stream",
          "name": "stderr",
          "text": [
            "2025-07-19 04:53:54,592 - my_app - INFO - Application started successfully.\n",
            "2025-07-19 04:53:54,592 - my_app - INFO - Application started successfully.\n",
            "INFO:my_app:Application started successfully.\n",
            "2025-07-19 04:53:54,595 - my_app - INFO - User 'John Doe' logged in from IP address: 192.168.1.10.\n",
            "2025-07-19 04:53:54,595 - my_app - INFO - User 'John Doe' logged in from IP address: 192.168.1.10.\n",
            "INFO:my_app:User 'John Doe' logged in from IP address: 192.168.1.10.\n",
            "2025-07-19 04:53:54,598 - my_app - ERROR - An attempt was made to divide by zero: division by zero\n",
            "2025-07-19 04:53:54,598 - my_app - ERROR - An attempt was made to divide by zero: division by zero\n",
            "ERROR:my_app:An attempt was made to divide by zero: division by zero\n",
            "2025-07-19 04:53:54,600 - my_app - INFO - Processing complete.\n",
            "2025-07-19 04:53:54,600 - my_app - INFO - Processing complete.\n",
            "INFO:my_app:Processing complete.\n"
          ]
        }
      ]
    },
    {
      "cell_type": "markdown",
      "source": [
        "Explanation\n",
        "This program demonstrates how to configure and use the Python logging module to handle both informational and error messages.\n",
        "Import logging: This line imports the necessary module for logging functionalities.\n",
        "setup_logger function:\n",
        "Takes the logger's name, the log file path, and the desired logging level as input.\n",
        "logging.getLogger(logger_name): Creates or retrieves a logger instance with the specified name.\n",
        "logger.setLevel(level): Sets the threshold for the logger, meaning it will process log messages at this level or higher (e.g., DEBUG, INFO, WARNING, ERROR, CRITICAL).\n",
        "logging.Formatter(...): Creates a Formatter object to customize the layout of log messages, including timestamp, logger name, level name, and the message itself.\n",
        "logging.FileHandler(log_file_path): Creates a FileHandler that directs log messages to the specified file.\n",
        "logging.StreamHandler(): Creates a StreamHandler that outputs log messages to the console.\n",
        "handler.setFormatter(formatter): Applies the defined formatter to the respective handlers.\n",
        "logger.addHandler(handler): Adds the configured handlers (file and console) to the logger, enabling logging to both destinations simultaneously.\n",
        "\n",
        "\n",
        "Logging Messages:\n",
        "\n",
        "\n",
        "my_logger.info(...): Logs messages with the INFO severity level, indicating general information about the application's execution.\n",
        "my_logger.error(...): Logs messages with the ERROR severity level, typically used when an error or unexpected event prevents the application from performing a specific function.\n",
        "The example includes a try-except block to demonstrate how to log exception details, capturing the error message and the exception object.\n",
        "Using string formatting with %s and passing the variable e to the error() method logs the exception details effectively.\n",
        "This code provides a robust and flexible logging system that helps track the application's behavior, debug issues, and ensure proper error handling."
      ],
      "metadata": {
        "id": "iWN2CeU_CDB5"
      }
    },
    {
      "cell_type": "markdown",
      "source": [
        "#Q15. Write a Python program that prints the content of a file and handles the case when the file is empty?\n"
      ],
      "metadata": {
        "id": "E2y3EI_9CMQz"
      }
    },
    {
      "cell_type": "code",
      "source": [
        "import os\n",
        "\n",
        "def print_file_content(file_path):\n",
        "    \"\"\"\n",
        "    Reads the content of a file and prints it to the console,\n",
        "    handling the case where the file is empty or not found.\n",
        "    \"\"\"\n",
        "    try:\n",
        "        if not os.path.exists(file_path): # Check if the file exists\n",
        "            print(f\"Error: The file '{file_path}' does not exist.\")\n",
        "            return\n",
        "\n",
        "        if os.path.getsize(file_path) == 0:  # Check if the file is empty using os.path.getsize()\n",
        "            print(f\"The file '{file_path}' is empty.\")\n",
        "        else:\n",
        "            with open(file_path, 'r') as file: # Open the file in read mode\n",
        "                content = file.read() # Read the entire content of the file as a single string\n",
        "                print(f\"Content of '{file_path}':\") # Print a header\n",
        "                print(content) # Print the content of the file\n",
        "\n",
        "    except IOError as e: # Catch potential I/O errors\n",
        "        print(f\"An I/O error occurred while reading the file: {e}\")\n",
        "    except Exception as e: # Catch any other unexpected exceptions\n",
        "        print(f\"An unexpected error occurred: {e}\")\n",
        "\n",
        "\n",
        "# --- Example Usage ---\n",
        "\n",
        "# 1. Create a non-empty file\n",
        "with open(\"my_non_empty_file.txt\", \"w\") as f: # Open the file in write mode\n",
        "    f.write(\"This is some content in the file.\\n\") # Write some content\n",
        "    f.write(\"This is a second line.\")\n",
        "\n",
        "# 2. Create an empty file\n",
        "open(\"my_empty_file.txt\", \"w\").close()  # Creates an empty file and closes it\n",
        "\n",
        "# 3. Try to access a non-existent file\n",
        "non_existent_file = \"non_existent_file.txt\" # Define a non-existent file path\n",
        "\n",
        "print(\"\\n--- Printing non-empty file content ---\")\n",
        "print_file_content(\"my_non_empty_file.txt\")\n",
        "\n",
        "print(\"\\n--- Printing empty file content ---\")\n",
        "print_file_content(\"my_empty_file.txt\")\n",
        "\n",
        "print(\"\\n--- Printing non-existent file content ---\")\n",
        "print_file_content(non_existent_file)\n"
      ],
      "metadata": {
        "colab": {
          "base_uri": "https://localhost:8080/"
        },
        "id": "lSanuOH8CTOr",
        "outputId": "ee4d2562-58bf-4f58-c3f9-a05f3461493a"
      },
      "execution_count": 19,
      "outputs": [
        {
          "output_type": "stream",
          "name": "stdout",
          "text": [
            "\n",
            "--- Printing non-empty file content ---\n",
            "Content of 'my_non_empty_file.txt':\n",
            "This is some content in the file.\n",
            "This is a second line.\n",
            "\n",
            "--- Printing empty file content ---\n",
            "The file 'my_empty_file.txt' is empty.\n",
            "\n",
            "--- Printing non-existent file content ---\n",
            "Error: The file 'non_existent_file.txt' does not exist.\n"
          ]
        }
      ]
    },
    {
      "cell_type": "markdown",
      "source": [
        "#Q16. Demonstrate how to use memory profiling to check the memory usage of a small program?\n"
      ],
      "metadata": {
        "id": "6I4B7PnYCaaj"
      }
    },
    {
      "cell_type": "code",
      "source": [
        "# Create a Python file named `memory_test.py`\n",
        "from memory_profiler import profile # Import the 'profile' decorator from memory_profiler\n",
        "\n",
        "@profile # Decorate the function you want to profile with '@profile'\n",
        "def my_function(): # Define the function you want to analyze\n",
        "    a = [1] * (10 ** 6) # Create a list with 1 million integer '1's\n",
        "    b = [2] * (2 * 10 ** 7) # Create a list with 20 million integer '2's\n",
        "    del b # Delete the list 'b' to release memory\n",
        "    return a # Return list 'a'\n",
        "\n",
        "if __name__ == \"__main__\": # Ensure the code runs only when the script is executed directly\n",
        "    my_function() # Call the function to be profiled\n"
      ],
      "metadata": {
        "id": "6v-5NRc4CpiQ"
      },
      "execution_count": null,
      "outputs": []
    },
    {
      "cell_type": "markdown",
      "source": [
        "Setup and execution\n",
        "Install memory_profiler:\n",
        "If you don't already have the library installed, you can install it using pip: pip install memory_profiler.\n",
        "Run the script:\n",
        "Execute your Python script from the command line using python -m memory_profiler memory_test.py. This command runs the script and activates the memory_profiler to track memory usage within the decorated function.\n",
        "Interpreting the output\n",
        "The output will display the memory usage line by line within the my_function."
      ],
      "metadata": {
        "id": "VyqrFJBmC0jk"
      }
    },
    {
      "cell_type": "code",
      "source": [
        "Filename: memory_test.py\n",
        "Line #    Mem usage    Increment   Line Contents\n",
        "================================================\n",
        "     3   43.4 MiB     43.4 MiB   @profile\n",
        "     4                           def my_function():\n",
        "     5   51.0 MiB      7.6 MiB       a = [1] * (10 ** 6)\n",
        "     6  203.6 MiB    152.6 MiB       b = [2] * (2 * 10 ** 7)\n",
        "     7   51.0 MiB   -152.6 MiB       del b\n",
        "     8   51.0 MiB      0.0 MiB       return a\n"
      ],
      "metadata": {
        "id": "s9sTJt_xCzbo"
      },
      "execution_count": null,
      "outputs": []
    },
    {
      "cell_type": "markdown",
      "source": [
        "The output indicates the following:\n",
        "Line #: The line number in your script.\n",
        "Mem usage: The memory usage of the Python interpreter in MiB after the execution of the line.\n",
        "Increment: The difference in memory usage compared to the previous line, showing how much memory was allocated or deallocated.\n",
        "Line Contents: The actual line of code being profiled.\n",
        "This output highlights how much memory each line of code within my_function is consuming, allowing you to pinpoint potential areas for optimization.\n",
        "AI responses may include mistakes. Learn more"
      ],
      "metadata": {
        "id": "NSA3j79XCwit"
      }
    },
    {
      "cell_type": "markdown",
      "source": [
        "#Q17. Write a Python program to create and write a list of numbers to a file, one number per line?\n"
      ],
      "metadata": {
        "id": "9YrgB4ccCq0Y"
      }
    },
    {
      "cell_type": "code",
      "source": [
        "def write_numbers_to_file(file_path, numbers_list):\n",
        "    \"\"\"\n",
        "    Writes a list of numbers to a specified file, with each number on a new line.\n",
        "\n",
        "    Parameters:\n",
        "        file_path (str): The path to the file where the numbers will be written.\n",
        "        numbers_list (list): A list of numbers (integers or floats).\n",
        "    \"\"\"\n",
        "    try:\n",
        "        with open(file_path, 'w') as file:  # Open the file in write mode ('w')\n",
        "            for number in numbers_list:\n",
        "                file.write(str(number) + '\\n')  # Convert the number to string and add a newline character\n",
        "        print(f\"Numbers successfully written to '{file_path}'.\")\n",
        "    except IOError as e:\n",
        "        print(f\"Error: Could not write to file '{file_path}'. {e}\")\n",
        "    except Exception as e:\n",
        "        print(f\"An unexpected error occurred: {e}\")\n",
        "\n",
        "# --- Example Usage ---\n",
        "if __name__ == \"__main__\":\n",
        "    my_numbers = [10, 25, 3.14, 42, 100, 7.89]  # Create a list of numbers\n",
        "    output_file_name = \"my_numbers.txt\"  # Define the output file name\n",
        "\n",
        "    write_numbers_to_file(output_file_name, my_numbers)\n",
        "\n",
        "    # You can optionally read the file to verify its content\n",
        "    print(f\"\\n--- Verifying content of '{output_file_name}' ---\")\n",
        "    try:\n",
        "        with open(output_file_name, 'r') as file:\n",
        "            content = file.read()\n",
        "            print(content)\n",
        "    except IOError as e:\n",
        "        print(f\"Error reading file for verification: {e}\")\n"
      ],
      "metadata": {
        "colab": {
          "base_uri": "https://localhost:8080/"
        },
        "id": "6i7-rJWZC_MB",
        "outputId": "e2220c2f-707c-4415-fb02-11564e1872da"
      },
      "execution_count": 21,
      "outputs": [
        {
          "output_type": "stream",
          "name": "stdout",
          "text": [
            "Numbers successfully written to 'my_numbers.txt'.\n",
            "\n",
            "--- Verifying content of 'my_numbers.txt' ---\n",
            "10\n",
            "25\n",
            "3.14\n",
            "42\n",
            "100\n",
            "7.89\n",
            "\n"
          ]
        }
      ]
    },
    {
      "cell_type": "markdown",
      "source": [
        "#Q18. How would you implement a basic logging setup that logs to a file with rotation after 1MB?\n"
      ],
      "metadata": {
        "id": "CzLfEYl0DIRV"
      }
    },
    {
      "cell_type": "code",
      "source": [
        "import logging\n",
        "import logging.handlers\n",
        "import time\n",
        "\n",
        "def setup_rotating_logger(log_file_name, max_bytes, backup_count):\n",
        "    \"\"\"\n",
        "    Sets up a logger that rotates its log file when it reaches a certain size.\n",
        "\n",
        "    Parameters:\n",
        "        log_file_name (str): The name of the log file.\n",
        "        max_bytes (int): The maximum size of the log file in bytes before rotation.\n",
        "        backup_count (int): The number of backup log files to keep.\n",
        "    \"\"\"\n",
        "    logger = logging.getLogger('my_rotating_logger') # Get or create a logger instance\n",
        "    logger.setLevel(logging.INFO) # Set the logging level to INFO\n",
        "\n",
        "    # Create a RotatingFileHandler\n",
        "    # maxBytes: The maximum size of the log file in bytes before rollover.\n",
        "    # backupCount: The number of backup files to keep.\n",
        "    handler = logging.handlers.RotatingFileHandler(\n",
        "        filename=log_file_name,\n",
        "        maxBytes=max_bytes, # 1MB = 1024 * 1024 bytes\n",
        "        backupCount=backup_count\n",
        "    )\n",
        "\n",
        "    # Create a formatter for the log messages\n",
        "    formatter = logging.Formatter('%(asctime)s - %(levelname)s - %(message)s') # Include timestamp, level, and message\n",
        "    handler.setFormatter(formatter) # Apply the formatter to the handler\n",
        "\n",
        "    logger.addHandler(handler) # Add the rotating file handler to the logger\n",
        "\n",
        "    return logger\n",
        "\n",
        "if __name__ == \"__main__\":\n",
        "    LOG_FILE = \"my_app.log\"\n",
        "    MAX_LOG_SIZE = 1 * 1024 * 1024 # 1 MB in bytes\n",
        "    BACKUP_COUNT = 5 # Keep 5 backup log files\n",
        "\n",
        "    logger = setup_rotating_logger(LOG_FILE, MAX_LOG_SIZE, BACKUP_COUNT)\n",
        "\n",
        "    # Log some messages to demonstrate rotation\n",
        "    print(f\"Logging messages to '{LOG_FILE}'. Check the directory for rotated files ('{LOG_FILE}.1', '{LOG_FILE}.2', etc.)\")\n",
        "    for i in range(50000): # Log a large number of messages to force rotation\n",
        "        logger.info(f\"This is a test log message number {i}\")\n",
        "        time.sleep(0.001) # Small delay to make the size increase more observable\n",
        "\n",
        "    print(\"Logging complete. Check the log files in the directory.\")\n"
      ],
      "metadata": {
        "id": "4OKfj05tEvHT"
      },
      "execution_count": null,
      "outputs": []
    },
    {
      "cell_type": "markdown",
      "source": [
        "#Q19.Write a program that handles both IndexError and KeyError using a try-except block?\n"
      ],
      "metadata": {
        "id": "fN-NC9KHDfcu"
      }
    },
    {
      "cell_type": "code",
      "source": [
        "def handle_exceptions_separately(my_list, my_dict, list_index, dict_key):\n",
        "    \"\"\"\n",
        "    Demonstrates handling IndexError and KeyError with separate except blocks.\n",
        "    \"\"\"\n",
        "    print(\"\\n--- Handling exceptions with separate except blocks ---\")\n",
        "    try:\n",
        "        # Attempt to access a list element\n",
        "        list_value = my_list[list_index]\n",
        "        print(f\"List value at index {list_index}: {list_value}\")\n",
        "\n",
        "        # Attempt to access a dictionary value\n",
        "        dict_value = my_dict[dict_key]\n",
        "        print(f\"Dictionary value for key '{dict_key}': {dict_value}\")\n",
        "\n",
        "    except IndexError as e:\n",
        "        print(f\"Caught an IndexError: {e}. The list index {list_index} is out of range.\")\n",
        "    except KeyError as e:\n",
        "        print(f\"Caught a KeyError: {e}. The dictionary key '{dict_key}' was not found.\")\n",
        "    except Exception as e:\n",
        "        print(f\"Caught an unexpected error: {e}\")\n",
        "\n",
        "def handle_exceptions_together(my_list, my_dict, list_index, dict_key):\n",
        "    \"\"\"\n",
        "    Demonstrates handling IndexError and KeyError with a single except block.\n",
        "    \"\"\"\n",
        "    print(\"\\n--- Handling exceptions with a single except block (tuple) ---\")\n",
        "    try:\n",
        "        # Attempt to access a list element\n",
        "        list_value = my_list[list_index]\n",
        "        print(f\"List value at index {list_index}: {list_value}\")\n",
        "\n",
        "        # Attempt to access a dictionary value\n",
        "        dict_value = my_dict[dict_key]\n",
        "        print(f\"Dictionary value for key '{dict_key}': {dict_value}\")\n",
        "\n",
        "    except (IndexError, KeyError) as e:\n",
        "        print(f\"Caught either an IndexError or KeyError: {e}. Please check the index or key.\")\n",
        "    except Exception as e:\n",
        "        print(f\"Caught an unexpected error: {e}\")\n",
        "\n",
        "# --- Example Usage ---\n",
        "if __name__ == \"__main__\":\n",
        "    my_list = [10, 20, 30]\n",
        "    my_dict = {\"name\": \"Alice\", \"age\": 30}\n",
        "\n",
        "    # Scenario 1: Index Error\n",
        "    handle_exceptions_separately(my_list, my_dict, 5, \"name\") # Index 5 is out of range\n",
        "    handle_exceptions_together(my_list, my_dict, 5, \"name\")\n",
        "\n",
        "    # Scenario 2: Key Error\n",
        "    handle_exceptions_separately(my_list, my_dict, 0, \"city\") # Key \"city\" doesn't exist\n",
        "    handle_exceptions_together(my_list, my_dict, 0, \"city\")\n",
        "\n",
        "    # Scenario 3: No Error\n",
        "    handle_exceptions_separately(my_list, my_dict, 1, \"name\")\n",
        "    handle_exceptions_together(my_list, my_dict, 1, \"name\")\n",
        "\n",
        "    # Scenario 4: Both IndexError and KeyError (separate blocks will catch the first one)\n",
        "    # The first exception encountered will be caught, and the subsequent code in the try block won't execute\n",
        "    handle_exceptions_separately(my_list, my_dict, 5, \"city\")\n",
        "\n",
        "    # Scenario 5: Both IndexError and KeyError (single block)\n",
        "    handle_exceptions_together(my_list, my_dict, 5, \"city\")\n"
      ],
      "metadata": {
        "id": "plGOpGuDD3R-"
      },
      "execution_count": null,
      "outputs": []
    },
    {
      "cell_type": "markdown",
      "source": [
        "#Q20. How would you open a file and read its contents using a context manager in Python?\n"
      ],
      "metadata": {
        "id": "-UrRFq5WEceg"
      }
    },
    {
      "cell_type": "code",
      "source": [
        "import os\n",
        "\n",
        "def read_file_with_context_manager(file_path):\n",
        "    \"\"\"\n",
        "    Opens a file, reads its contents, and ensures it's closed using a context manager.\n",
        "    Handles FileNotFoundError if the file doesn't exist.\n",
        "    \"\"\"\n",
        "    try:\n",
        "        # The 'with' statement opens the file and guarantees it's closed afterwards\n",
        "        with open(file_path, 'r') as file:  # Open the file in read mode ('r')\n",
        "            content = file.read()  # Read the entire content of the file\n",
        "            print(f\"Content of '{file_path}':\") # Print a header\n",
        "            print(content)  # Print the content of the file\n",
        "    except FileNotFoundError:  # Handle the case where the file doesn't exist\n",
        "        print(f\"Error: The file '{file_path}' was not found.\")\n",
        "    except Exception as e:  # Catch any other potential errors\n",
        "        print(f\"An unexpected error occurred while reading the file: {e}\")\n",
        "\n",
        "# --- Example Usage ---\n",
        "\n",
        "# 1. Create a sample file to read\n",
        "sample_file_name = \"sample_data.txt\"\n",
        "with open(sample_file_name, 'w') as f: # Use a context manager to write the file, too\n",
        "    f.write(\"This is the first line.\\n\")\n",
        "    f.write(\"This is the second line.\\n\")\n",
        "    f.write(\"And the last line of the sample data.\")\n",
        "\n",
        "# 2. Read the existing file\n",
        "read_file_with_context_manager(sample_file_name)\n",
        "\n",
        "# 3. Try to read a non-existent file\n",
        "non_existent_file = \"non_existent.txt\"\n",
        "read_file_with_context_manager(non_existent_file)\n",
        "\n",
        "# 4. Clean up the created sample file (optional)\n",
        "if os.path.exists(sample_file_name):\n",
        "    os.remove(sample_file_name)\n",
        "    print(f\"\\nCleaned up '{sample_file_name}'.\")\n"
      ],
      "metadata": {
        "id": "gWW3QeUKE7N8"
      },
      "execution_count": null,
      "outputs": []
    },
    {
      "cell_type": "markdown",
      "source": [
        "#Q21. Write a Python program that reads a file and prints the number of occurrences of a specific word?\n"
      ],
      "metadata": {
        "id": "xl_5AvH-EbA_"
      }
    },
    {
      "cell_type": "code",
      "source": [
        "import re\n",
        "\n",
        "def count_word_occurrences(file_path, search_word, case_sensitive=False):\n",
        "    \"\"\"\n",
        "    Reads a text file, counts the occurrences of a specific word, and prints the result.\n",
        "\n",
        "    Parameters:\n",
        "        file_path (str): The path to the text file.\n",
        "        search_word (str): The word to search for.\n",
        "        case_sensitive (bool): If True, the search is case-sensitive.\n",
        "                              If False, the search is case-insensitive (default).\n",
        "    \"\"\"\n",
        "    try:\n",
        "        with open(file_path, 'r', encoding='utf-8') as file:\n",
        "            content = file.read()\n",
        "\n",
        "        if not case_sensitive:\n",
        "            content = content.lower()\n",
        "            search_word = search_word.lower()\n",
        "\n",
        "        pattern = r'\\b' + re.escape(search_word) + r'\\b'\n",
        "        matches = re.findall(pattern, content)\n",
        "        count = len(matches)\n",
        "\n",
        "        print(f\"The word '{search_word}' appears {count} time(s) in '{file_path}'.\")\n",
        "\n",
        "    except FileNotFoundError:\n",
        "        print(f\"Error: The file '{file_path}' was not found.\")\n",
        "    except Exception as e:\n",
        "        print(f\"An unexpected error occurred while reading the file: {e}\")\n",
        "\n",
        "# --- Example Usage ---\n",
        "if __name__ == \"__main__\":\n",
        "    # Create a sample file\n",
        "    sample_text = \"\"\"\n",
        "Python is a versatile language.\n",
        "python supports multiple paradigms.\n",
        "PYTHON is popular for its simplicity and clear syntax.\n",
        "We are learning Python. Python programming is fun.\n",
        "    \"\"\"\n",
        "    sample_file_name = \"sample_text.txt\"\n",
        "    with open(sample_file_name, \"w\") as f:\n",
        "        f.write(sample_text)\n",
        "\n",
        "    # Example 1: Case-insensitive search for \"Python\"\n",
        "    print(\"--- Case-insensitive search ---\")\n",
        "    count_word_occurrences(sample_file_name, \"Python\", case_sensitive=False)\n",
        "\n",
        "    # Example 2: Case-sensitive search for \"Python\"\n",
        "    print(\"\\n--- Case-sensitive search ---\")\n",
        "    count_word_occurrences(sample_file_name, \"Python\", case_sensitive=True)\n",
        "\n",
        "    # Example 3: Search for a word that doesn't exist\n",
        "    print(\"\\n--- Search for a non-existent word ---\")\n",
        "    count_word_occurrences(sample_file_name, \"Java\")\n",
        "\n",
        "    # Example 4: Search for a word that appears multiple times (case-insensitive)\n",
        "    print(\"\\n--- Search for 'is' (case-insensitive) ---\")\n",
        "    count_word_occurrences(sample_file_name, \"is\", case_sensitive=False)\n",
        "\n",
        "    # Example 5: Trying to open a non-existent file\n",
        "    print(\"\\n--- Attempt to read a non-existent file ---\")\n",
        "    count_word_occurrences(\"non_existent_file.txt\", \"word\")\n",
        "\n",
        "    # Clean up the created sample file (optional)\n",
        "    import os\n",
        "    if os.path.exists(sample_file_name):\n",
        "        os.remove(sample_file_name)\n"
      ],
      "metadata": {
        "id": "rALZFhjeFMHW"
      },
      "execution_count": null,
      "outputs": []
    },
    {
      "cell_type": "markdown",
      "source": [
        "#Q22. How can you check if a file is empty before attempting to read its contents?\n"
      ],
      "metadata": {
        "id": "gy-CbaY6FYRg"
      }
    },
    {
      "cell_type": "markdown",
      "source": [
        "Checking if a file is empty before attempting to read its contents is a good practice to avoid errors and unnecessary processing, especially in automated workflows.\n",
        "\n",
        "Here are several Python methods to check if a file is empty:\n",
        "\n",
        "1. Using os.path.getsize()\n",
        "\n",
        "The os.path.getsize() function from the built-in os module returns the size of a file in bytes. If the file is empty, its size will be 0 bytes.\n",
        "For detailed examples of using os.path.getsize() to check if a file is empty, please refer to the provided code snippets in the referenced documents.\n",
        "\n",
        "2. Using os.stat().st_size\n",
        "\n",
        "The os.stat() function provides detailed information about a file, including its size, in the st_size attribute. For detailed examples of using os.stat().st_size to check if a file is empty, please refer to the provided code snippets in the referenced documents.\n",
        "\n",
        "3. By attempting to read the first character\n",
        "\n",
        "If you open the file in read mode and attempt to read the first character (or any amount of data), an empty file will return an empty string. For detailed examples of checking if a file is empty by attempting to read its first character, please refer to the provided code snippets in the referenced documents.\n",
        "\n",
        "4. Using the pathlib module (Python 3.4+)\n",
        "\n",
        "The pathlib module provides an object-oriented approach to file system paths and operations, including checking file size using Path.stat().st_size. For detailed examples of using pathlib to check if a file is empty, please refer to the provided code snippets in the referenced documents.\n",
        "Considerations\n",
        "File Existence: Always check if the file exists before attempting to check its size or read it. Otherwise, functions like os.path.getsize() and os.stat() will raise a FileNotFoundError.\n",
        "Permissions: If you lack the necessary permissions to access the file, functions like os.path.getsize() may raise a PermissionError or OSError.\n",
        "Race Conditions: There's a slight chance that a file's state could change between checking if it's empty and attempting to read it (e.g., another process writes to or deletes it). Consider using try-except blocks for robustness, as shown in the examples in the referenced documents.\n",
        "Choosing the right method depends on your specific needs. os.path.getsize() is generally the most straightforward and efficient for just checking the size. pathlib offers a more modern and object-oriented approach, while os.stat() provides more detailed file information if needed."
      ],
      "metadata": {
        "id": "XBdSrgWoFp2g"
      }
    },
    {
      "cell_type": "markdown",
      "source": [
        "#Q23. Write a Python program that writes to a log file when an error occurs during file handling?\n"
      ],
      "metadata": {
        "id": "NBy3gOD1F3y7"
      }
    },
    {
      "cell_type": "code",
      "source": [
        "import logging\n",
        "import os\n",
        "\n",
        "# Define the log file name and error log file name\n",
        "LOG_FILE = \"application.log\"\n",
        "ERROR_LOG_FILE = \"error.log\"\n",
        "\n",
        "def setup_logger(log_file, level=logging.INFO):\n",
        "    \"\"\"\n",
        "    Configures and returns a logger instance.\n",
        "\n",
        "    Parameters:\n",
        "        log_file (str): The name of the log file.\n",
        "        level (int): The logging level (e.g., logging.INFO, logging.DEBUG, logging.ERROR).\n",
        "\n",
        "    Returns:\n",
        "        logging.Logger: The configured logger object.\n",
        "    \"\"\"\n",
        "    logger = logging.getLogger(log_file) # Create a logger instance with the given name\n",
        "    logger.setLevel(level) # Set the logging level\n",
        "\n",
        "    # Create a FileHandler to write logs to the specified file\n",
        "    file_handler = logging.FileHandler(log_file) # Create a FileHandler to write logs to a file\n",
        "\n",
        "    # Create a formatter to define the log message format\n",
        "    formatter = logging.Formatter('%(asctime)s - %(levelname)s - %(message)s') # Define the log message format\n",
        "    file_handler.setFormatter(formatter) # Apply the formatter to the handler\n",
        "\n",
        "    # Add the handler to the logger\n",
        "    logger.addHandler(file_handler)\n",
        "\n",
        "    return logger\n",
        "\n",
        "# Set up the main application logger\n",
        "app_logger = setup_logger(LOG_FILE, logging.INFO) # Set up the main application logger with INFO level\n",
        "\n",
        "# Set up a dedicated logger for errors\n",
        "error_logger = setup_logger(ERROR_LOG_FILE, logging.ERROR) # Set up a dedicated error logger with ERROR level\n",
        "\n",
        "def read_file_content(file_path):\n",
        "    \"\"\"\n",
        "    Attempts to read the content of a file and logs errors if they occur.\n",
        "    \"\"\"\n",
        "    try:\n",
        "        app_logger.info(f\"Attempting to read file: {file_path}\") # Log an informational message\n",
        "        with open(file_path, 'r', encoding='utf-8') as file: # Open the file in read mode\n",
        "            content = file.read() # Read the content\n",
        "            app_logger.info(f\"Successfully read file: {file_path}\") # Log success\n",
        "            return content\n",
        "    except FileNotFoundError: # Catch FileNotFoundError\n",
        "        error_message = f\"Error: File not found at '{file_path}'\" # Create an error message\n",
        "        print(error_message)\n",
        "        error_logger.error(error_message, exc_info=True) # Log the error with stack trace\n",
        "    except PermissionError: # Catch PermissionError\n",
        "        error_message = f\"Error: Permission denied when accessing '{file_path}'\" # Create an error message\n",
        "        print(error_message)\n",
        "        error_logger.error(error_message, exc_info=True) # Log the error with stack trace\n",
        "    except IOError as e: # Catch general IOError\n",
        "        error_message = f\"An I/O error occurred while reading '{file_path}': {e}\" # Create an error message\n",
        "        print(error_message)\n",
        "        error_logger.exception(error_message) # Log the exception with stack trace\n",
        "    except Exception as e: # Catch any other unexpected exceptions\n",
        "        error_message = f\"An unexpected error occurred while reading '{file_path}': {e}\" # Create an error message\n",
        "        print(error_message)\n",
        "        error_logger.critical(error_message, exc_info=True) # Log a critical error with stack trace\n",
        "    return None\n",
        "\n",
        "def write_to_file(file_path, data):\n",
        "    \"\"\"\n",
        "    Attempts to write data to a file and logs errors if they occur.\n",
        "    \"\"\"\n",
        "    try:\n",
        "        app_logger.info(f\"Attempting to write to file: {file_path}\") # Log an informational message\n",
        "        with open(file_path, 'w', encoding='utf-8') as file: # Open the file in write mode\n",
        "            file.write(data) # Write the data\n",
        "        app_logger.info(f\"Successfully wrote to file: {file_path}\") # Log success\n",
        "        return True\n",
        "    except PermissionError: # Catch PermissionError\n",
        "        error_message = f\"Error: Permission denied when writing to '{file_path}'\" # Create an error message\n",
        "        print(error_message)\n",
        "        error_logger.error(error_message, exc_info=True) # Log the error with stack trace\n",
        "    except IOError as e: # Catch general IOError\n",
        "        error_message = f\"An I/O error occurred while writing to '{file_path}': {e}\" # Create an error message\n",
        "        print(error_message)\n",
        "        error_logger.exception(error_message) # Log the exception with stack trace\n",
        "    except Exception as e: # Catch any other unexpected exceptions\n",
        "        error_message = f\"An unexpected error occurred while writing to '{file_path}': {e}\" # Create an error message\n",
        "        print(error_message)\n",
        "        error_logger.critical(error_message, exc_info=True) # Log a critical error with stack trace\n",
        "    return False\n",
        "\n",
        "# --- Example Usage ---\n",
        "if __name__ == \"__main__\":\n",
        "    # Create a dummy file for reading\n",
        "    with open(\"test_input.txt\", \"w\") as f:\n",
        "        f.write(\"This is a test content.\")\n",
        "\n",
        "    # 1. Successful file read operation\n",
        "    print(\"\\n--- Testing successful file read ---\")\n",
        "    read_file_content(\"test_input.txt\")\n",
        "\n",
        "    # 2. Attempt to read a non-existent file\n",
        "    print(\"\\n--- Testing FileNotFoundError ---\")\n",
        "    read_file_content(\"non_existent_file.txt\")\n",
        "\n",
        "    # 3. Attempt to write to a protected directory (may require specific system setup to trigger)\n",
        "    #    On Linux/macOS, try writing to '/root/protected.txt' or similar.\n",
        "    #    On Windows, try writing to a system directory like 'C:\\\\Windows\\\\protected.txt'.\n",
        "    #    This might raise a PermissionError.\n",
        "    print(\"\\n--- Testing PermissionError (writing) ---\")\n",
        "    protected_file_path = \"/protected_dir/protected_file.txt\" # Example path, adjust as needed\n",
        "    write_to_file(protected_file_path, \"Some data\")\n",
        "\n",
        "    # 4. Attempt to write to a file with an invalid mode (will trigger IOError or ValueError)\n",
        "    print(\"\\n--- Testing IOError during file write with invalid mode ---\")\n",
        "    try:\n",
        "        app_logger.info(\"Attempting to open file with invalid mode.\")\n",
        "        with open(\"invalid_mode_test.txt\", \"invalid_mode\") as f:\n",
        "            f.write(\"This should fail.\")\n",
        "    except Exception as e:\n",
        "        error_message = f\"Error during invalid file mode operation: {e}\"\n",
        "        print(error_message)\n",
        "        error_logger.error(error_message, exc_info=True)\n",
        "\n",
        "    # 5. Clean up the dummy file\n",
        "    if os.path.exists(\"test_input.txt\"):\n",
        "        os.remove(\"test_input.txt\")\n",
        "        app_logger.info(\"Cleaned up 'test_input.txt'.\")\n",
        "\n",
        "    print(f\"\\nCheck '{LOG_FILE}' for application logs and '{ERROR_LOG_FILE}' for error logs.\")\n"
      ],
      "metadata": {
        "id": "fx1IYa96FfbC"
      },
      "execution_count": null,
      "outputs": []
    }
  ]
}